{
  "cells": [
    {
      "cell_type": "code",
      "execution_count": 1,
      "metadata": {
        "id": "KnYIqx2uNrpp"
      },
      "outputs": [],
      "source": [
        "%matplotlib inline"
      ]
    },
    {
      "cell_type": "markdown",
      "metadata": {
        "id": "96nPAf6SNrps"
      },
      "source": [
        "\n",
        "분류기(Classifier) 학습하기\n",
        "============================\n",
        "\n",
        "지금까지 어떻게 신경망을 정의하고, 손실을 계산하며 또 가중치를 갱신하는지에\n",
        "대해서 배웠습니다.\n",
        "\n",
        "이제 아마도 이런 생각을 하고 계실텐데요,\n",
        "\n",
        "데이터는 어떻게 하나요?\n",
        "------------------------\n",
        "\n",
        "일반적으로 이미지나 텍스트, 오디오나 비디오 데이터를 다룰 때는 표준 Python 패키지를\n",
        "이용하여 NumPy 배열로 불러오면 됩니다. 그 후 그 배열을 ``torch.*Tensor`` 로 변환합니다.\n",
        "\n",
        "-  이미지는 Pillow나 OpenCV 같은 패키지가 유용합니다.\n",
        "-  오디오를 처리할 때는 SciPy와 LibROSA가 유용하고요.\n",
        "-  텍스트의 경우에는 그냥 Python이나 Cython을 사용해도 되고, NLTK나 SpaCy도\n",
        "   유용합니다.\n",
        "\n",
        "특별히 영상 분야를 위한 ``torchvision`` 이라는 패키지가 만들어져 있는데,\n",
        "여기에는 ImageNet이나 CIFAR10, MNIST 등과 같이 일반적으로 사용하는 데이터셋을 위한\n",
        "데이터 로더(data loader), 즉 ``torchvision.datasets`` 과 이미지용 데이터 변환기\n",
        "(data transformer), 즉 ``torch.utils.data.DataLoader`` 가 포함되어 있습니다.\n",
        "\n",
        "이러한 기능은 엄청나게 편리하며, 매번 유사한 코드(boilerplate code)를 반복해서\n",
        "작성하는 것을 피할 수 있습니다.\n",
        "\n",
        "이 튜토리얼에서는 CIFAR10 데이터셋을 사용합니다. 여기에는 다음과 같은 분류들이\n",
        "있습니다: '비행기(airplane)', '자동차(automobile)', '새(bird)', '고양이(cat)',\n",
        "'사슴(deer)', '개(dog)', '개구리(frog)', '말(horse)', '배(ship)', '트럭(truck)'.\n",
        "그리고 CIFAR10에 포함된 이미지의 크기는 3x32x32로, 이는 32x32 픽셀 크기의 이미지가\n",
        "3개 채널(channel)의 색상로 이뤄져 있다는 것을 뜻합니다.\n",
        "\n",
        ".. figure:: /_static/img/cifar10.png\n",
        "   :alt: cifar10\n",
        "\n",
        "   cifar10\n",
        "\n",
        "\n",
        "이미지 분류기 학습하기\n",
        "----------------------------\n",
        "\n",
        "다음과 같은 단계로 진행해보겠습니다:\n",
        "\n",
        "1. ``torchvision`` 을 사용하여 CIFAR10의 학습용 / 시험용 데이터셋을\n",
        "   불러오고, 정규화(nomarlizing)합니다.\n",
        "2. 합성곱 신경망(Convolution Neural Network)을 정의합니다.\n",
        "3. 손실 함수를 정의합니다.\n",
        "4. 학습용 데이터를 사용하여 신경망을 학습합니다.\n",
        "5. 시험용 데이터를 사용하여 신경망을 검사합니다.\n",
        "\n",
        "1. CIFAR10을 불러오고 정규화하기\n",
        "^^^^^^^^^^^^^^^^^^^^^^^^^^^^^^^^^^\n",
        "\n",
        "``torchvision`` 을 사용하여 매우 쉽게 CIFAR10을 불러올 수 있습니다.\n"
      ]
    },
    {
      "cell_type": "code",
      "execution_count": 2,
      "metadata": {
        "id": "GaPicykANrpt"
      },
      "outputs": [],
      "source": [
        "import torch\n",
        "import torchvision\n",
        "import torchvision.transforms as transforms"
      ]
    },
    {
      "cell_type": "markdown",
      "metadata": {
        "id": "v6KqD516Nrpt"
      },
      "source": [
        "torchvision 데이터셋의 출력(output)은 [0, 1] 범위를 갖는 PILImage 이미지입니다.\n",
        "이를 [-1, 1]의 범위로 정규화된 Tensor로 변환합니다.\n",
        "\n",
        "<div class=\"alert alert-info\"><h4>Note</h4><p>만약 Windows 환경에서 BrokenPipeError가 발생한다면,\n",
        "    torch.utils.data.DataLoader()의 num_worker를 0으로 설정해보세요.</p></div>\n",
        "\n"
      ]
    },
    {
      "cell_type": "code",
      "execution_count": 3,
      "metadata": {
        "id": "UyV-ZrNrNrpu",
        "outputId": "4284351c-2771-4227-93df-019ca829f04f",
        "colab": {
          "base_uri": "https://localhost:8080/",
          "height": 103,
          "referenced_widgets": [
            "94e378ae787245d0b477fb26eb84c764",
            "bb6dcd3812924eb1b42e48ad008d12ec",
            "990da266b18a42cda58e5c4373b683bd",
            "72d47509a1f94a959706cf515f7f3fa8",
            "a47c28efe06a4e0493418e2a051c26e4",
            "0e6a215e531c49c4880c32507d4b4426",
            "b2b1b9eef4d441b785a3ebfaca782080",
            "988f8b12b4f34a0db1f9b146ee6a4de0",
            "87e0d7167e444402a0f43dd06505de31",
            "9a405543bd44485bb68cadb08a321bfa",
            "e79d02dea3e445b38cacfad57f90140c"
          ]
        }
      },
      "outputs": [
        {
          "output_type": "stream",
          "name": "stdout",
          "text": [
            "Downloading https://www.cs.toronto.edu/~kriz/cifar-10-python.tar.gz to ./data/cifar-10-python.tar.gz\n"
          ]
        },
        {
          "output_type": "display_data",
          "data": {
            "text/plain": [
              "  0%|          | 0/170498071 [00:00<?, ?it/s]"
            ],
            "application/vnd.jupyter.widget-view+json": {
              "version_major": 2,
              "version_minor": 0,
              "model_id": "94e378ae787245d0b477fb26eb84c764"
            }
          },
          "metadata": {}
        },
        {
          "output_type": "stream",
          "name": "stdout",
          "text": [
            "Extracting ./data/cifar-10-python.tar.gz to ./data\n",
            "Files already downloaded and verified\n"
          ]
        }
      ],
      "source": [
        "transform = transforms.Compose(\n",
        "    [transforms.ToTensor(),\n",
        "     transforms.Normalize((0.5, 0.5, 0.5), (0.5, 0.5, 0.5))])\n",
        "\n",
        "batch_size = 4\n",
        "\n",
        "trainset = torchvision.datasets.CIFAR10(root='./data', train=True,\n",
        "                                        download=True, transform=transform)\n",
        "trainloader = torch.utils.data.DataLoader(trainset, batch_size=batch_size,\n",
        "                                          shuffle=True, num_workers=2)\n",
        "\n",
        "testset = torchvision.datasets.CIFAR10(root='./data', train=False,\n",
        "                                       download=True, transform=transform)\n",
        "testloader = torch.utils.data.DataLoader(testset, batch_size=batch_size,\n",
        "                                         shuffle=False, num_workers=2)\n",
        "\n",
        "classes = ('plane', 'car', 'bird', 'cat',\n",
        "           'deer', 'dog', 'frog', 'horse', 'ship', 'truck')"
      ]
    },
    {
      "cell_type": "markdown",
      "metadata": {
        "id": "eTiLgP5iNrpu"
      },
      "source": [
        "재미삼아 학습용 이미지 몇 개를 보겠습니다.\n",
        "\n"
      ]
    },
    {
      "cell_type": "code",
      "execution_count": 4,
      "metadata": {
        "id": "MrwAOVAfNrpu",
        "outputId": "2f0fdea6-eb64-4c47-baba-7c97d4da0ea5",
        "colab": {
          "base_uri": "https://localhost:8080/",
          "height": 156
        }
      },
      "outputs": [
        {
          "output_type": "display_data",
          "data": {
            "text/plain": [
              "<Figure size 432x288 with 1 Axes>"
            ],
            "image/png": "[encoded data removed]"
          },
          "metadata": {
            "needs_background": "light"
          }
        },
        {
          "output_type": "stream",
          "name": "stdout",
          "text": [
            "bird  truck plane horse\n"
          ]
        }
      ],
      "source": [
        "import matplotlib.pyplot as plt\n",
        "import numpy as np\n",
        "\n",
        "# 이미지를 보여주기 위한 함수\n",
        "\n",
        "def imshow(img):\n",
        "    img = img / 2 + 0.5     # unnormalize\n",
        "    npimg = img.numpy()\n",
        "    plt.imshow(np.transpose(npimg, (1, 2, 0)))\n",
        "    plt.show()\n",
        "\n",
        "\n",
        "# 학습용 이미지를 무작위로 가져오기\n",
        "dataiter = iter(trainloader)\n",
        "images, labels = dataiter.next()\n",
        "\n",
        "# 이미지 보여주기\n",
        "imshow(torchvision.utils.make_grid(images))\n",
        "# 정답(label) 출력\n",
        "print(' '.join(f'{classes[labels[j]]:5s}' for j in range(batch_size)))"
      ]
    },
    {
      "cell_type": "markdown",
      "metadata": {
        "id": "WUH8WUgcNrpv"
      },
      "source": [
        "2. 합성곱 신경망(Convolution Neural Network) 정의하기\n",
        "^^^^^^^^^^^^^^^^^^^^^^^^^^^^^^^^^^^^^^^^^^^^^^^^^^^^^\n",
        "이전의 신경망 섹션에서 신경망을 복사한 후, (기존에 1채널 이미지만 처리하도록\n",
        "정의된 것을) 3채널 이미지를 처리할 수 있도록 수정합니다.\n",
        "\n"
      ]
    },
    {
      "cell_type": "code",
      "execution_count": 5,
      "metadata": {
        "id": "ZgDgHjJwNrpv"
      },
      "outputs": [],
      "source": [
        "import torch.nn as nn\n",
        "import torch.nn.functional as F\n",
        "\n",
        "\n",
        "class Net(nn.Module):\n",
        "    def __init__(self):\n",
        "        super().__init__()\n",
        "        self.conv1 = nn.Conv2d(3, 6, 5)\n",
        "        self.pool = nn.MaxPool2d(2, 2)\n",
        "        self.conv2 = nn.Conv2d(6, 16, 5)\n",
        "        self.fc1 = nn.Linear(16 * 5 * 5, 120)\n",
        "        self.fc2 = nn.Linear(120, 84)\n",
        "        self.fc3 = nn.Linear(84, 10)\n",
        "\n",
        "    def forward(self, x):\n",
        "        x = self.pool(F.relu(self.conv1(x)))\n",
        "        x = self.pool(F.relu(self.conv2(x)))\n",
        "        x = torch.flatten(x, 1) # 배치를 제외한 모든 차원을 평탄화(flatten)\n",
        "        x = F.relu(self.fc1(x))\n",
        "        x = F.relu(self.fc2(x))\n",
        "        x = self.fc3(x)\n",
        "        return x\n",
        "\n",
        "\n",
        "net = Net()"
      ]
    },
    {
      "cell_type": "markdown",
      "metadata": {
        "id": "wKb_iNSaNrpw"
      },
      "source": [
        "3. 손실 함수와 Optimizer 정의하기\n",
        "^^^^^^^^^^^^^^^^^^^^^^^^^^^^^^^^^^^^^^^\n",
        "교차 엔트로피 손실(Cross-Entropy loss)과 모멘텀(momentum) 값을 갖는 SGD를 사용합니다.\n",
        "\n"
      ]
    },
    {
      "cell_type": "code",
      "execution_count": 6,
      "metadata": {
        "id": "hEG0mdk4Nrpw"
      },
      "outputs": [],
      "source": [
        "import torch.optim as optim\n",
        "\n",
        "criterion = nn.CrossEntropyLoss()\n",
        "optimizer = optim.SGD(net.parameters(), lr=0.001, momentum=0.9)"
      ]
    },
    {
      "cell_type": "markdown",
      "metadata": {
        "id": "TV7Z_tm6Nrpw"
      },
      "source": [
        "4. 신경망 학습하기\n",
        "^^^^^^^^^^^^^^^^^^^^\n",
        "\n",
        "이제 재미있는 부분이 시작됩니다.\n",
        "단순히 데이터를 반복해서 신경망에 입력으로 제공하고, 최적화(Optimize)만 하면\n",
        "됩니다.\n",
        "\n"
      ]
    },
    {
      "cell_type": "code",
      "execution_count": 7,
      "metadata": {
        "id": "04j2MZHTNrpw",
        "outputId": "c79a86c3-67ac-4cb1-c849-43ba4641a117",
        "colab": {
          "base_uri": "https://localhost:8080/"
        }
      },
      "outputs": [
        {
          "output_type": "stream",
          "name": "stdout",
          "text": [
            "[1,  2000] loss: 2.267\n",
            "[1,  4000] loss: 1.924\n",
            "[1,  6000] loss: 1.702\n",
            "[1,  8000] loss: 1.597\n",
            "[1, 10000] loss: 1.549\n",
            "[1, 12000] loss: 1.470\n",
            "[2,  2000] loss: 1.420\n",
            "[2,  4000] loss: 1.371\n",
            "[2,  6000] loss: 1.339\n",
            "[2,  8000] loss: 1.307\n",
            "[2, 10000] loss: 1.303\n",
            "[2, 12000] loss: 1.267\n",
            "Finished Training\n"
          ]
        }
      ],
      "source": [
        "for epoch in range(2):   # 데이터셋을 수차례 반복합니다.\n",
        "\n",
        "    running_loss = 0.0\n",
        "    for i, data in enumerate(trainloader, 0):\n",
        "        # [inputs, labels]의 목록인 data로부터 입력을 받은 후;\n",
        "        inputs, labels = data\n",
        "\n",
        "        # 변화도(Gradient) 매개변수를 0으로 만들고\n",
        "        optimizer.zero_grad()\n",
        "\n",
        "        # 순전파 + 역전파 + 최적화를 한 후\n",
        "        outputs = net(inputs)\n",
        "        loss = criterion(outputs, labels)\n",
        "        loss.backward()\n",
        "        optimizer.step()\n",
        "\n",
        "        # 통계를 출력합니다.\n",
        "        running_loss += loss.item()\n",
        "        if i % 2000 == 1999:    # print every 2000 mini-batches\n",
        "            print(f'[{epoch + 1}, {i + 1:5d}] loss: {running_loss / 2000:.3f}')\n",
        "            running_loss = 0.0\n",
        "\n",
        "print('Finished Training')"
      ]
    },
    {
      "cell_type": "markdown",
      "metadata": {
        "id": "3BZ6l5SJNrpx"
      },
      "source": [
        "학습한 모델을 저장해보겠습니다:\n",
        "\n"
      ]
    },
    {
      "cell_type": "code",
      "execution_count": 8,
      "metadata": {
        "id": "WVuf_qhCNrpx"
      },
      "outputs": [],
      "source": [
        "PATH = './cifar_net.pth'\n",
        "torch.save(net.state_dict(), PATH)"
      ]
    },
    {
      "cell_type": "markdown",
      "metadata": {
        "id": "f7QKri92Nrpx"
      },
      "source": [
        "PyTorch 모델을 저장하는 자세한 방법은 `여기 <https://pytorch.org/docs/stable/notes/serialization.html>`_\n",
        "를 참조해주세요.\n",
        "\n",
        "5. 시험용 데이터로 신경망 검사하기\n",
        "^^^^^^^^^^^^^^^^^^^^^^^^^^^^^^^^^^^^\n",
        "\n",
        "지금까지 학습용 데이터셋을 2회 반복하며 신경망을 학습시켰습니다.\n",
        "신경망이 전혀 배운게 없을지도 모르니 확인해봅니다.\n",
        "\n",
        "신경망이 예측한 출력과 진짜 정답(Ground-truth)을 비교하는 방식으로 확인합니다.\n",
        "만약 예측이 맞다면 샘플을 '맞은 예측값(correct predictions)' 목록에 넣겠습니다.\n",
        "\n",
        "첫번째로 시험용 데이터를 좀 보겠습니다.\n",
        "\n"
      ]
    },
    {
      "cell_type": "code",
      "execution_count": 9,
      "metadata": {
        "id": "OiEV-cG9Nrpx",
        "outputId": "7de0a295-f6eb-4871-e541-434449c0e528",
        "colab": {
          "base_uri": "https://localhost:8080/",
          "height": 156
        }
      },
      "outputs": [
        {
          "output_type": "display_data",
          "data": {
            "text/plain": [
              "<Figure size 432x288 with 1 Axes>"
            ],
            "image/png": "[encoded data removed]"
          },
          "metadata": {
            "needs_background": "light"
          }
        },
        {
          "output_type": "stream",
          "name": "stdout",
          "text": [
            "GroundTruth:  cat   ship  ship  plane\n"
          ]
        }
      ],
      "source": [
        "dataiter = iter(testloader)\n",
        "images, labels = dataiter.next()\n",
        "\n",
        "# 이미지를 출력합니다.\n",
        "imshow(torchvision.utils.make_grid(images))\n",
        "print('GroundTruth: ', ' '.join(f'{classes[labels[j]]:5s}' for j in range(4)))"
      ]
    },
    {
      "cell_type": "markdown",
      "metadata": {
        "id": "SAxryUklNrpx"
      },
      "source": [
        "이제, 저장했던 모델을 불러오도록 하겠습니다 (주: 모델을 저장하고 다시 불러오는\n",
        "작업은 여기에서는 불필요하지만, 어떻게 하는지 설명을 위해 해보겠습니다):\n",
        "\n"
      ]
    },
    {
      "cell_type": "code",
      "execution_count": 10,
      "metadata": {
        "id": "EUgc56YZNrpx",
        "outputId": "9bbae5cb-fca8-4d62-b1b4-9b04bff4a35e",
        "colab": {
          "base_uri": "https://localhost:8080/"
        }
      },
      "outputs": [
        {
          "output_type": "execute_result",
          "data": {
            "text/plain": [
              "<All keys matched successfully>"
            ]
          },
          "metadata": {},
          "execution_count": 10
        }
      ],
      "source": [
        "net = Net()\n",
        "net.load_state_dict(torch.load(PATH))"
      ]
    },
    {
      "cell_type": "markdown",
      "metadata": {
        "id": "uBAldcJNNrpy"
      },
      "source": [
        "좋습니다, 이제 이 예제들을 신경망이 어떻게 예측했는지를 보겠습니다:\n",
        "\n"
      ]
    },
    {
      "cell_type": "code",
      "execution_count": 11,
      "metadata": {
        "id": "fCMeQzWmNrpy"
      },
      "outputs": [],
      "source": [
        "outputs = net(images)"
      ]
    },
    {
      "cell_type": "markdown",
      "metadata": {
        "id": "I97gKXL3Nrpy"
      },
      "source": [
        "출력은 10개 분류 각각에 대한 값으로 나타납니다. 어떤 분류에 대해서 더 높은 값이\n",
        "나타난다는 것은, 신경망이 그 이미지가 해당 분류에 더 가깝다고 생각한다는 것입니다.\n",
        "따라서, 가장 높은 값을 갖는 인덱스(index)를 뽑아보겠습니다:\n",
        "\n"
      ]
    },
    {
      "cell_type": "code",
      "execution_count": 12,
      "metadata": {
        "id": "ikqGQCNGNrpy",
        "outputId": "402ae879-1c5b-40c5-c042-e386358996f3",
        "colab": {
          "base_uri": "https://localhost:8080/"
        }
      },
      "outputs": [
        {
          "output_type": "stream",
          "name": "stdout",
          "text": [
            "Predicted:  cat   car   truck plane\n"
          ]
        }
      ],
      "source": [
        "_, predicted = torch.max(outputs, 1)\n",
        "\n",
        "print('Predicted: ', ' '.join(f'{classes[predicted[j]]:5s}'\n",
        "                              for j in range(4)))"
      ]
    },
    {
      "cell_type": "markdown",
      "metadata": {
        "id": "sKQtwGWlNrpy"
      },
      "source": [
        "결과가 괜찮아보이네요.\n",
        "\n",
        "그럼 전체 데이터셋에 대해서는 어떻게 동작하는지 보겠습니다.\n",
        "\n"
      ]
    },
    {
      "cell_type": "code",
      "execution_count": 13,
      "metadata": {
        "id": "bwq4QmwjNrpy",
        "outputId": "20906225-8a08-4f54-ba9f-8cf46ab3c97b",
        "colab": {
          "base_uri": "https://localhost:8080/"
        }
      },
      "outputs": [
        {
          "output_type": "stream",
          "name": "stdout",
          "text": [
            "Accuracy of the network on the 10000 test images: 55 %\n"
          ]
        }
      ],
      "source": [
        "correct = 0\n",
        "total = 0\n",
        "# 학습 중이 아니므로, 출력에 대한 변화도를 계산할 필요가 없습니다\n",
        "with torch.no_grad():\n",
        "    for data in testloader:\n",
        "        images, labels = data\n",
        "        # 신경망에 이미지를 통과시켜 출력을 계산합니다\n",
        "        outputs = net(images)\n",
        "        # 가장 높은 값(energy)를 갖는 분류(class)를 정답으로 선택하겠습니다\n",
        "        _, predicted = torch.max(outputs.data, 1)\n",
        "        total += labels.size(0)\n",
        "        correct += (predicted == labels).sum().item()\n",
        "\n",
        "print(f'Accuracy of the network on the 10000 test images: {100 * correct // total} %')"
      ]
    },
    {
      "cell_type": "markdown",
      "metadata": {
        "id": "WHrJm1hBNrpy"
      },
      "source": [
        "(10가지 분류 중에 하나를 무작위로) 찍었을 때의 정확도인 10% 보다는 나아보입니다.\n",
        "신경망이 뭔가 배우긴 한 것 같네요.\n",
        "\n",
        "그럼 어떤 것들을 더 잘 분류하고, 어떤 것들을 더 못했는지 알아보겠습니다:\n",
        "\n"
      ]
    },
    {
      "cell_type": "code",
      "execution_count": 14,
      "metadata": {
        "id": "KXT6PFysNrpy",
        "outputId": "0d4d0459-dac4-4168-97f7-8a176f0f915b",
        "colab": {
          "base_uri": "https://localhost:8080/"
        }
      },
      "outputs": [
        {
          "output_type": "stream",
          "name": "stdout",
          "text": [
            "Accuracy for class: plane is 69.5 %\n",
            "Accuracy for class: car   is 75.5 %\n",
            "Accuracy for class: bird  is 43.0 %\n",
            "Accuracy for class: cat   is 38.0 %\n",
            "Accuracy for class: deer  is 47.4 %\n",
            "Accuracy for class: dog   is 36.9 %\n",
            "Accuracy for class: frog  is 66.8 %\n",
            "Accuracy for class: horse is 64.8 %\n",
            "Accuracy for class: ship  is 64.5 %\n",
            "Accuracy for class: truck is 52.9 %\n"
          ]
        }
      ],
      "source": [
        "# 각 분류(class)에 대한 예측값 계산을 위해 준비\n",
        "correct_pred = {classname: 0 for classname in classes}\n",
        "total_pred = {classname: 0 for classname in classes}\n",
        "\n",
        "# 변화도는 여전히 필요하지 않습니다\n",
        "with torch.no_grad():\n",
        "    for data in testloader:\n",
        "        images, labels = data\n",
        "        outputs = net(images)\n",
        "        _, predictions = torch.max(outputs, 1)\n",
        "        # 각 분류별로 올바른 예측 수를 모읍니다\n",
        "        for label, prediction in zip(labels, predictions):\n",
        "            if label == prediction:\n",
        "                correct_pred[classes[label]] += 1\n",
        "            total_pred[classes[label]] += 1\n",
        "\n",
        "\n",
        "# 각 분류별 정확도(accuracy)를 출력합니다\n",
        "for classname, correct_count in correct_pred.items():\n",
        "    accuracy = 100 * float(correct_count) / total_pred[classname]\n",
        "    print(f'Accuracy for class: {classname:5s} is {accuracy:.1f} %')"
      ]
    },
    {
      "cell_type": "markdown",
      "metadata": {
        "id": "isV7GqfONrpz"
      },
      "source": [
        "자, 이제 다음으로 무엇을 해볼까요?\n",
        "\n",
        "이러한 신경망들을 GPU에서 실행하려면 어떻게 해야 할까요?\n",
        "\n",
        "GPU에서 학습하기\n",
        "----------------\n",
        "Tensor를 GPU로 이동했던 것처럼, 신경망 또한 GPU로 옮길 수 있습니다.\n",
        "\n",
        "먼저 (CUDA를 사용할 수 있다면) 첫번째 CUDA 장치를 사용하도록 설정합니다:\n",
        "\n"
      ]
    },
    {
      "cell_type": "code",
      "execution_count": 15,
      "metadata": {
        "id": "VGMQT9jGNrpz",
        "outputId": "f9cf0e52-90a1-4609-8f0b-ed4d5f5d10ba",
        "colab": {
          "base_uri": "https://localhost:8080/"
        }
      },
      "outputs": [
        {
          "output_type": "stream",
          "name": "stdout",
          "text": [
            "cuda:0\n"
          ]
        }
      ],
      "source": [
        "device = torch.device('cuda:0' if torch.cuda.is_available() else 'cpu')\n",
        "\n",
        "# CUDA 기기가 존재한다면, 아래 코드가 CUDA 장치를 출력합니다:\n",
        "\n",
        "print(device)"
      ]
    },
    {
      "cell_type": "markdown",
      "metadata": {
        "id": "ta5NxI-0Nrpz"
      },
      "source": [
        "이 섹션의 나머지 부분에서는 ``device`` 를 CUDA 장치라고 가정하겠습니다.\n",
        "\n",
        "그리고 이 메소드(Method)들은 재귀적으로 모든 모듈의 매개변수와 버퍼를\n",
        "CUDA tensor로 변경합니다:\n",
        "\n",
        ".. code:: python\n",
        "\n",
        "    net.to(device)\n",
        "\n",
        "\n",
        "또한, 각 단계에서 입력(input)과 정답(target)도 GPU로 보내야 한다는 것도 기억해야\n",
        "합니다:\n",
        "\n",
        ".. code:: python\n",
        "\n",
        "        inputs, labels = data[0].to(device), data[1].to(device)\n",
        "\n",
        "CPU와 비교했을 때 어마어마한 속도 차이가 나지 않는 것은 왜 그럴까요?\n",
        "그 이유는 바로 신경망이 너무 작기 때문입니다.\n",
        "\n",
        "**연습:** 신경망의 크기를 키워보고, 얼마나 빨라지는지 확인해보세요.\n",
        "(첫번째 ``nn.Conv2d`` 의 2번째 인자와 두번째 ``nn.Conv2d`` 의 1번째 인자는\n",
        "같은 숫자여야 합니다.)\n",
        "\n",
        "**다음 목표들을 달성했습니다**:\n",
        "\n",
        "- 높은 수준에서 PyTorch의 Tensor library와 신경망을 이해합니다.\n",
        "- 이미지를 분류하는 작은 신경망을 학습시킵니다.\n",
        "\n",
        "여러개의 GPU에서 학습하기\n",
        "-------------------------\n",
        "모든 GPU를 활용해서 더욱 더 속도를 올리고 싶다면, :doc:`data_parallel_tutorial`\n",
        "을 참고하세요.\n",
        "\n",
        "이제 무엇을 해볼까요?\n",
        "-----------------------\n",
        "\n",
        "-  :doc:`비디오 게임을 할 수 있는 신경망 학습시키기 </intermediate/reinforcement_q_learning>`\n",
        "-  `imagenet으로 최첨단(state-of-the-art) ResNet 신경망 학습시키기`_\n",
        "-  `적대적 생성 신경망으로 얼굴 생성기 학습시키기`_\n",
        "-  `순환 LSTM 네트워크를 사용해 단어 단위 언어 모델 학습시키기`_\n",
        "-  `다른 예제들 참고하기`_\n",
        "-  `더 많은 튜토리얼 보기`_\n",
        "-  `포럼에서 PyTorch에 대해 얘기하기`_\n",
        "-  `Slack에서 다른 사용자와 대화하기`_\n",
        "\n",
        "\n"
      ]
    },
    {
      "cell_type": "code",
      "execution_count": 16,
      "metadata": {
        "id": "4LwTgnnWNrpz"
      },
      "outputs": [],
      "source": [
        "# %%%%%%INVISIBLE_CODE_BLOCK%%%%%%\n",
        "del dataiter\n",
        "# %%%%%%INVISIBLE_CODE_BLOCK%%%%%%"
      ]
    }
  ],
  "metadata": {
    "kernelspec": {
      "display_name": "Python 3",
      "language": "python",
      "name": "python3"
    },
    "language_info": {
      "codemirror_mode": {
        "name": "ipython",
        "version": 3
      },
      "file_extension": ".py",
      "mimetype": "text/x-python",
      "name": "python",
      "nbconvert_exporter": "python",
      "pygments_lexer": "ipython3",
      "version": "3.8.8"
    },
    "colab": {
      "name": "cifar10_tutorial.ipynb",
      "provenance": []
    },
    "accelerator": "GPU",
    "widgets": {
      "application/vnd.jupyter.widget-state+json": {
        "94e378ae787245d0b477fb26eb84c764": {
          "model_module": "@jupyter-widgets/controls",
          "model_name": "HBoxModel",
          "model_module_version": "1.5.0",
          "state": {
            "_dom_classes": [],
            "_model_module": "@jupyter-widgets/controls",
            "_model_module_version": "1.5.0",
            "_model_name": "HBoxModel",
            "_view_count": null,
            "_view_module": "@jupyter-widgets/controls",
            "_view_module_version": "1.5.0",
            "_view_name": "HBoxView",
            "box_style": "",
            "children": [
              "IPY_MODEL_bb6dcd3812924eb1b42e48ad008d12ec",
              "IPY_MODEL_990da266b18a42cda58e5c4373b683bd",
              "IPY_MODEL_72d47509a1f94a959706cf515f7f3fa8"
            ],
            "layout": "IPY_MODEL_a47c28efe06a4e0493418e2a051c26e4"
          }
        },
        "bb6dcd3812924eb1b42e48ad008d12ec": {
          "model_module": "@jupyter-widgets/controls",
          "model_name": "HTMLModel",
          "model_module_version": "1.5.0",
          "state": {
            "_dom_classes": [],
            "_model_module": "@jupyter-widgets/controls",
            "_model_module_version": "1.5.0",
            "_model_name": "HTMLModel",
            "_view_count": null,
            "_view_module": "@jupyter-widgets/controls",
            "_view_module_version": "1.5.0",
            "_view_name": "HTMLView",
            "description": "",
            "description_tooltip": null,
            "layout": "IPY_MODEL_0e6a215e531c49c4880c32507d4b4426",
            "placeholder": "​",
            "style": "IPY_MODEL_b2b1b9eef4d441b785a3ebfaca782080",
            "value": ""
          }
        },
        "990da266b18a42cda58e5c4373b683bd": {
          "model_module": "@jupyter-widgets/controls",
          "model_name": "FloatProgressModel",
          "model_module_version": "1.5.0",
          "state": {
            "_dom_classes": [],
            "_model_module": "@jupyter-widgets/controls",
            "_model_module_version": "1.5.0",
            "_model_name": "FloatProgressModel",
            "_view_count": null,
            "_view_module": "@jupyter-widgets/controls",
            "_view_module_version": "1.5.0",
            "_view_name": "ProgressView",
            "bar_style": "success",
            "description": "",
            "description_tooltip": null,
            "layout": "IPY_MODEL_988f8b12b4f34a0db1f9b146ee6a4de0",
            "max": 170498071,
            "min": 0,
            "orientation": "horizontal",
            "style": "IPY_MODEL_87e0d7167e444402a0f43dd06505de31",
            "value": 170498071
          }
        },
        "72d47509a1f94a959706cf515f7f3fa8": {
          "model_module": "@jupyter-widgets/controls",
          "model_name": "HTMLModel",
          "model_module_version": "1.5.0",
          "state": {
            "_dom_classes": [],
            "_model_module": "@jupyter-widgets/controls",
            "_model_module_version": "1.5.0",
            "_model_name": "HTMLModel",
            "_view_count": null,
            "_view_module": "@jupyter-widgets/controls",
            "_view_module_version": "1.5.0",
            "_view_name": "HTMLView",
            "description": "",
            "description_tooltip": null,
            "layout": "IPY_MODEL_9a405543bd44485bb68cadb08a321bfa",
            "placeholder": "​",
            "style": "IPY_MODEL_e79d02dea3e445b38cacfad57f90140c",
            "value": " 170499072/? [00:03&lt;00:00, 58656477.66it/s]"
          }
        },
        "a47c28efe06a4e0493418e2a051c26e4": {
          "model_module": "@jupyter-widgets/base",
          "model_name": "LayoutModel",
          "model_module_version": "1.2.0",
          "state": {
            "_model_module": "@jupyter-widgets/base",
            "_model_module_version": "1.2.0",
            "_model_name": "LayoutModel",
            "_view_count": null,
            "_view_module": "@jupyter-widgets/base",
            "_view_module_version": "1.2.0",
            "_view_name": "LayoutView",
            "align_content": null,
            "align_items": null,
            "align_self": null,
            "border": null,
            "bottom": null,
            "display": null,
            "flex": null,
            "flex_flow": null,
            "grid_area": null,
            "grid_auto_columns": null,
            "grid_auto_flow": null,
            "grid_auto_rows": null,
            "grid_column": null,
            "grid_gap": null,
            "grid_row": null,
            "grid_template_areas": null,
            "grid_template_columns": null,
            "grid_template_rows": null,
            "height": null,
            "justify_content": null,
            "justify_items": null,
            "left": null,
            "margin": null,
            "max_height": null,
            "max_width": null,
            "min_height": null,
            "min_width": null,
            "object_fit": null,
            "object_position": null,
            "order": null,
            "overflow": null,
            "overflow_x": null,
            "overflow_y": null,
            "padding": null,
            "right": null,
            "top": null,
            "visibility": null,
            "width": null
          }
        },
        "0e6a215e531c49c4880c32507d4b4426": {
          "model_module": "@jupyter-widgets/base",
          "model_name": "LayoutModel",
          "model_module_version": "1.2.0",
          "state": {
            "_model_module": "@jupyter-widgets/base",
            "_model_module_version": "1.2.0",
            "_model_name": "LayoutModel",
            "_view_count": null,
            "_view_module": "@jupyter-widgets/base",
            "_view_module_version": "1.2.0",
            "_view_name": "LayoutView",
            "align_content": null,
            "align_items": null,
            "align_self": null,
            "border": null,
            "bottom": null,
            "display": null,
            "flex": null,
            "flex_flow": null,
            "grid_area": null,
            "grid_auto_columns": null,
            "grid_auto_flow": null,
            "grid_auto_rows": null,
            "grid_column": null,
            "grid_gap": null,
            "grid_row": null,
            "grid_template_areas": null,
            "grid_template_columns": null,
            "grid_template_rows": null,
            "height": null,
            "justify_content": null,
            "justify_items": null,
            "left": null,
            "margin": null,
            "max_height": null,
            "max_width": null,
            "min_height": null,
            "min_width": null,
            "object_fit": null,
            "object_position": null,
            "order": null,
            "overflow": null,
            "overflow_x": null,
            "overflow_y": null,
            "padding": null,
            "right": null,
            "top": null,
            "visibility": null,
            "width": null
          }
        },
        "b2b1b9eef4d441b785a3ebfaca782080": {
          "model_module": "@jupyter-widgets/controls",
          "model_name": "DescriptionStyleModel",
          "model_module_version": "1.5.0",
          "state": {
            "_model_module": "@jupyter-widgets/controls",
            "_model_module_version": "1.5.0",
            "_model_name": "DescriptionStyleModel",
            "_view_count": null,
            "_view_module": "@jupyter-widgets/base",
            "_view_module_version": "1.2.0",
            "_view_name": "StyleView",
            "description_width": ""
          }
        },
        "988f8b12b4f34a0db1f9b146ee6a4de0": {
          "model_module": "@jupyter-widgets/base",
          "model_name": "LayoutModel",
          "model_module_version": "1.2.0",
          "state": {
            "_model_module": "@jupyter-widgets/base",
            "_model_module_version": "1.2.0",
            "_model_name": "LayoutModel",
            "_view_count": null,
            "_view_module": "@jupyter-widgets/base",
            "_view_module_version": "1.2.0",
            "_view_name": "LayoutView",
            "align_content": null,
            "align_items": null,
            "align_self": null,
            "border": null,
            "bottom": null,
            "display": null,
            "flex": null,
            "flex_flow": null,
            "grid_area": null,
            "grid_auto_columns": null,
            "grid_auto_flow": null,
            "grid_auto_rows": null,
            "grid_column": null,
            "grid_gap": null,
            "grid_row": null,
            "grid_template_areas": null,
            "grid_template_columns": null,
            "grid_template_rows": null,
            "height": null,
            "justify_content": null,
            "justify_items": null,
            "left": null,
            "margin": null,
            "max_height": null,
            "max_width": null,
            "min_height": null,
            "min_width": null,
            "object_fit": null,
            "object_position": null,
            "order": null,
            "overflow": null,
            "overflow_x": null,
            "overflow_y": null,
            "padding": null,
            "right": null,
            "top": null,
            "visibility": null,
            "width": null
          }
        },
        "87e0d7167e444402a0f43dd06505de31": {
          "model_module": "@jupyter-widgets/controls",
          "model_name": "ProgressStyleModel",
          "model_module_version": "1.5.0",
          "state": {
            "_model_module": "@jupyter-widgets/controls",
            "_model_module_version": "1.5.0",
            "_model_name": "ProgressStyleModel",
            "_view_count": null,
            "_view_module": "@jupyter-widgets/base",
            "_view_module_version": "1.2.0",
            "_view_name": "StyleView",
            "bar_color": null,
            "description_width": ""
          }
        },
        "9a405543bd44485bb68cadb08a321bfa": {
          "model_module": "@jupyter-widgets/base",
          "model_name": "LayoutModel",
          "model_module_version": "1.2.0",
          "state": {
            "_model_module": "@jupyter-widgets/base",
            "_model_module_version": "1.2.0",
            "_model_name": "LayoutModel",
            "_view_count": null,
            "_view_module": "@jupyter-widgets/base",
            "_view_module_version": "1.2.0",
            "_view_name": "LayoutView",
            "align_content": null,
            "align_items": null,
            "align_self": null,
            "border": null,
            "bottom": null,
            "display": null,
            "flex": null,
            "flex_flow": null,
            "grid_area": null,
            "grid_auto_columns": null,
            "grid_auto_flow": null,
            "grid_auto_rows": null,
            "grid_column": null,
            "grid_gap": null,
            "grid_row": null,
            "grid_template_areas": null,
            "grid_template_columns": null,
            "grid_template_rows": null,
            "height": null,
            "justify_content": null,
            "justify_items": null,
            "left": null,
            "margin": null,
            "max_height": null,
            "max_width": null,
            "min_height": null,
            "min_width": null,
            "object_fit": null,
            "object_position": null,
            "order": null,
            "overflow": null,
            "overflow_x": null,
            "overflow_y": null,
            "padding": null,
            "right": null,
            "top": null,
            "visibility": null,
            "width": null
          }
        },
        "e79d02dea3e445b38cacfad57f90140c": {
          "model_module": "@jupyter-widgets/controls",
          "model_name": "DescriptionStyleModel",
          "model_module_version": "1.5.0",
          "state": {
            "_model_module": "@jupyter-widgets/controls",
            "_model_module_version": "1.5.0",
            "_model_name": "DescriptionStyleModel",
            "_view_count": null,
            "_view_module": "@jupyter-widgets/base",
            "_view_module_version": "1.2.0",
            "_view_name": "StyleView",
            "description_width": ""
          }
        }
      }
    }
  },
  "nbformat": 4,
  "nbformat_minor": 0
}