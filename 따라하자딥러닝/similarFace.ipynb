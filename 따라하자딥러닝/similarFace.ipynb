{
 "cells": [
  {
   "cell_type": "code",
   "execution_count": 12,
   "id": "professional-lease",
   "metadata": {},
   "outputs": [
    {
     "name": "stdout",
     "output_type": "stream",
     "text": [
      "file_list: ['d5.jpg', 'jooyoung.jpg', 'd10.jpg', 'd9.jpg', 'd7.jpg', 'd4.jpg', 'd1.jpg', 'd6.jpg', 'd2.jpg', 'd8.jpg', 'me.jpg', '.ipynb_checkpoints', 'd3.jpg']\n",
      "['d5.jpg', 'jooyoung.jpg', 'd10.jpg', 'd9.jpg', 'd7.jpg', 'd4.jpg', 'd1.jpg', 'd6.jpg', 'd2.jpg', 'd8.jpg', 'me.jpg', 'd3.jpg']\n"
     ]
    }
   ],
   "source": [
    "import os\n",
    "\n",
    "dir_path = os.getenv('HOME')+'/aiffel/celebrities/images'\n",
    "file_list = os.listdir(dir_path)\n",
    "\n",
    "print (\"file_list: {}\".format(file_list))\n",
    "\n",
    "# 작업 환경에 따라 혹시나 뜰 수 있는 \".ipynb_checkpoints\"를 제거한 리스트를 만들어줄게요.\n",
    "file_list = list(filter(lambda file: not file.startswith(\".\"), file_list))\n",
    "\n",
    "print(file_list)"
   ]
  },
  {
   "cell_type": "code",
   "execution_count": 13,
   "id": "unique-procurement",
   "metadata": {},
   "outputs": [],
   "source": [
    "import face_recognition\n",
    "\n",
    "def get_cropped_face(image_file):\n",
    "    image = face_recognition.load_image_file(image_file)\n",
    "    face_locations = face_recognition.face_locations(image)\n",
    "    a, b, c, d = face_locations[0]\n",
    "    cropped_face = image[a:c,d:b,:]\n",
    "    \n",
    "    return cropped_face"
   ]
  },
  {
   "cell_type": "code",
   "execution_count": 14,
   "id": "looking-panic",
   "metadata": {},
   "outputs": [
    {
     "data": {
      "text/plain": [
       "<matplotlib.image.AxesImage at 0x7f59a18d5ed0>"
      ]
     },
     "execution_count": 14,
     "metadata": {},
     "output_type": "execute_result"
    },
    {
     "data": {
      "image/png": "[encoded data removed]",
      "text/plain": [
       "<Figure size 432x288 with 1 Axes>"
      ]
     },
     "metadata": {
      "needs_background": "light"
     },
     "output_type": "display_data"
    }
   ],
   "source": [
    "%matplotlib inline\n",
    "import matplotlib.pyplot as plt\n",
    "\n",
    "image_path = os.path.join(dir_path, file_list[0])\n",
    "face = get_cropped_face(image_path)\n",
    "plt.imshow(face)"
   ]
  },
  {
   "cell_type": "code",
   "execution_count": 15,
   "id": "civic-richmond",
   "metadata": {},
   "outputs": [
    {
     "data": {
      "text/plain": [
       "[array([-0.01353183,  0.02975583,  0.05504363, -0.09818371, -0.04114451,\n",
       "         0.02571659, -0.08820774, -0.12446463,  0.10043381, -0.16789931,\n",
       "         0.21221994, -0.0835636 , -0.24293348, -0.0444408 , -0.05963739,\n",
       "         0.22769669, -0.16581883, -0.14141901, -0.0341469 ,  0.04019574,\n",
       "         0.03314095,  0.05917819, -0.00506792,  0.02851591, -0.13027871,\n",
       "        -0.31726381, -0.08154797, -0.02547948, -0.08596107, -0.02794846,\n",
       "        -0.0808588 ,  0.09595017, -0.1647459 ,  0.04994755,  0.03882914,\n",
       "         0.14573942, -0.03646055, -0.11067926,  0.12932397,  0.08716103,\n",
       "        -0.30118433,  0.05070696,  0.05005507,  0.26568002,  0.20263687,\n",
       "        -0.08683445, -0.02911422, -0.11955687,  0.11678027, -0.23963606,\n",
       "         0.04365647,  0.10211772,  0.05502907,  0.09292123, -0.00258342,\n",
       "        -0.10406267,  0.06285565,  0.13254724, -0.14822578, -0.00053937,\n",
       "         0.12242688, -0.13877772,  0.02573177, -0.09712863,  0.13566764,\n",
       "         0.12088631, -0.10751755, -0.25168771,  0.05282815, -0.14655547,\n",
       "        -0.08473633,  0.10440025, -0.16590774, -0.18954334, -0.32429522,\n",
       "         0.02656513,  0.26460245,  0.14840484, -0.16289288,  0.03340723,\n",
       "         0.02958432,  0.02036082,  0.17418565,  0.16572058,  0.08164465,\n",
       "         0.03679047, -0.09703564,  0.02196753,  0.25328636, -0.09794854,\n",
       "        -0.05756782,  0.24083485, -0.07041061,  0.03070753,  0.02631756,\n",
       "         0.05183768, -0.0669283 ,  0.06928416, -0.16910639,  0.00150833,\n",
       "         0.00628762, -0.02879056, -0.00343104,  0.1240323 , -0.11537905,\n",
       "         0.13239855, -0.03655479,  0.02152937,  0.06922193, -0.04943637,\n",
       "        -0.09689269, -0.05058028,  0.13175528, -0.20089799,  0.17035678,\n",
       "         0.14499253,  0.12559016,  0.05506844,  0.13649105,  0.06565066,\n",
       "        -0.04883279, -0.03425758, -0.22908567,  0.01137666,  0.09819009,\n",
       "         0.01773791,  0.07043488, -0.02363633])]"
      ]
     },
     "execution_count": 15,
     "metadata": {},
     "output_type": "execute_result"
    }
   ],
   "source": [
    "# 얼굴 영역을 가지고 얼굴 임베딩 벡터를 구하는 함수\n",
    "def get_face_embedding(face):\n",
    "    return face_recognition.face_encodings(face)\n",
    "embedding = get_face_embedding(face)  \n",
    "embedding"
   ]
  },
  {
   "cell_type": "code",
   "execution_count": 19,
   "id": "decreased-election",
   "metadata": {},
   "outputs": [],
   "source": [
    "def get_face_embedding_dict(dir_path):\n",
    "    file_list = os.listdir(dir_path)\n",
    "    file_list = list(filter(lambda file: not file.startswith(\".\"), file_list))\n",
    "    embedding_dict = {}\n",
    "    for file in file_list:\n",
    "        img_path = os.path.join(dir_path, file)\n",
    "    \n",
    "        #  face_recognition.face_locations를 이용했을때 어떤 이미지는 얼굴영역을 제대로 찾지 못하는 경우도 있습니다.이 경우를 예외처리 해줍니다.    \n",
    "        try : \n",
    "            face = get_cropped_face(img_path)\n",
    "            embedding = get_face_embedding(face)\n",
    "        except : \n",
    "            face = \"\"\n",
    "            embedding = \"\"\n",
    "                \n",
    "        # 얼굴영역 face가 제대로 detect된 경우에면 dict에 embedding값을 저장해 줍니다.\n",
    "        if len(embedding) > 0:  \n",
    "            embedding_dict[os.path.splitext(file)[0]] = embedding[0]# os.path.splitext(file)[0]에는 이미지파일명에서 확장자를 제거한 이름이 담깁니다. \n",
    "    \n",
    "    return embedding_dict\n"
   ]
  },
  {
   "cell_type": "code",
   "execution_count": 20,
   "id": "rubber-passage",
   "metadata": {},
   "outputs": [
    {
     "data": {
      "text/plain": [
       "array([-0.02391924,  0.00325   ,  0.02326868, -0.01046157, -0.154551  ,\n",
       "       -0.004023  , -0.06195812, -0.04439363,  0.10327784, -0.13081424,\n",
       "        0.16025195, -0.05082688, -0.19878526, -0.06331087, -0.0571992 ,\n",
       "        0.17599839, -0.14188413, -0.1822522 , -0.04482011, -0.04758394,\n",
       "        0.04098655,  0.03087543, -0.02976617,  0.00179283, -0.14610782,\n",
       "       -0.32808068, -0.10076629, -0.09011872, -0.03035819, -0.02516931,\n",
       "       -0.06506405,  0.11790398, -0.13105369, -0.03282398,  0.06739058,\n",
       "        0.11425409, -0.00963945, -0.09563932,  0.18416363,  0.02945201,\n",
       "       -0.22633427,  0.0033475 ,  0.0484084 ,  0.22226742,  0.13294406,\n",
       "        0.02599786,  0.04089516, -0.09257941,  0.13448425, -0.16312034,\n",
       "        0.03147218,  0.20187065,  0.07413121,  0.1024507 ,  0.00419509,\n",
       "       -0.07944365,  0.08454776,  0.08613042, -0.11426751, -0.03722244,\n",
       "        0.07045114, -0.10031731, -0.01907729, -0.1087769 ,  0.18718171,\n",
       "        0.04982514, -0.07117414, -0.20121484,  0.13324337, -0.15543051,\n",
       "       -0.17494226,  0.02569735, -0.17480549, -0.14645754, -0.31308168,\n",
       "        0.01771784,  0.36087948,  0.15304948, -0.13888422,  0.1021732 ,\n",
       "        0.0080983 , -0.02484164,  0.11162157,  0.16590311, -0.01387855,\n",
       "        0.06470676, -0.08053202,  0.03377975,  0.24359433, -0.08267967,\n",
       "       -0.04756333,  0.13635656, -0.01319786,  0.11350801,  0.0523062 ,\n",
       "        0.02540117, -0.02378231,  0.06352549, -0.08597085,  0.03912319,\n",
       "        0.13025384, -0.02801179, -0.00251172,  0.09365896, -0.10497755,\n",
       "        0.11506078, -0.06313175,  0.03280697, -0.00964219, -0.03787823,\n",
       "       -0.11871511, -0.00530844,  0.15084814, -0.18689016,  0.1883615 ,\n",
       "        0.15644936,  0.03163622,  0.09802881,  0.16741292,  0.07082832,\n",
       "       -0.03901428, -0.07003719, -0.26766497, -0.08940351,  0.10408161,\n",
       "        0.00254695,  0.06600375,  0.03149216])"
      ]
     },
     "execution_count": 20,
     "metadata": {},
     "output_type": "execute_result"
    }
   ],
   "source": [
    "embedding_dict = get_face_embedding_dict(dir_path)\n",
    "embedding_dict[\"jooyoung\"] # 업로드한 사진의 이름을 넣어주세요."
   ]
  },
  {
   "cell_type": "code",
   "execution_count": 22,
   "id": "universal-guitar",
   "metadata": {},
   "outputs": [],
   "source": [
    "import face_recognition\n",
    "\n",
    "def get_cropped_face(image_file):\n",
    "    image = face_recognition.load_image_file(image_file)\n",
    "    face_locations = face_recognition.face_locations(image)\n",
    "    a, b, c, d = face_locations[0]\n",
    "    cropped_face = image[a:c,d:b,:]\n",
    "    \n",
    "    return cropped_face"
   ]
  },
  {
   "cell_type": "code",
   "execution_count": 23,
   "id": "ranging-latex",
   "metadata": {},
   "outputs": [
    {
     "data": {
      "text/plain": [
       "<matplotlib.image.AxesImage at 0x7f59a18d1b90>"
      ]
     },
     "execution_count": 23,
     "metadata": {},
     "output_type": "execute_result"
    },
    {
     "data": {
      "image/png": "[encoded data removed]",
      "text/plain": [
       "<Figure size 432x288 with 1 Axes>"
      ]
     },
     "metadata": {
      "needs_background": "light"
     },
     "output_type": "display_data"
    }
   ],
   "source": [
    "%matplotlib inline\n",
    "import matplotlib.pyplot as plt\n",
    "\n",
    "image_path = os.path.join(dir_path, file_list[0])\n",
    "face = get_cropped_face(image_path)\n",
    "plt.imshow(face)"
   ]
  },
  {
   "cell_type": "code",
   "execution_count": 33,
   "id": "consistent-tablet",
   "metadata": {},
   "outputs": [],
   "source": [
    "def get_distance(name1, name2):\n",
    "    return np.linalg.norm(embedding_dict[name1]-embedding_dict[name2], ord=2)"
   ]
  },
  {
   "cell_type": "code",
   "execution_count": null,
   "id": "respected-basics",
   "metadata": {},
   "outputs": [],
   "source": []
  },
  {
   "cell_type": "code",
   "execution_count": null,
   "id": "electronic-railway",
   "metadata": {},
   "outputs": [],
   "source": []
  },
  {
   "cell_type": "code",
   "execution_count": 34,
   "id": "wireless-netherlands",
   "metadata": {},
   "outputs": [],
   "source": [
    "my_faces = [\"me\", \"jooyoung\"]\n",
    "\n",
    "def get_nearest_face(name, top=2):\n",
    "    sort_key_func = get_sort_key_func(name)\n",
    "    sorted_faces = sorted(embedding_dict.items(), key=lambda x:sort_key_func(x[0]))\n",
    "    sorted_faces = list(filter(lambda face: face[0] not in my_faces, sorted_faces))\n",
    "    num_faces = len(sorted_faces)\n",
    "    \n",
    "    for i in range(min(num_faces, top+1)):\n",
    "        if sorted_faces[i]:\n",
    "            print('순위 {} : 이름({}), 거리({})'.format(i, sorted_faces[i][0], sort_key_func(sorted_faces[i][0])))\n"
   ]
  },
  {
   "cell_type": "code",
   "execution_count": 35,
   "id": "remarkable-tenant",
   "metadata": {},
   "outputs": [],
   "source": [
    "def get_sort_key_func(name1):\n",
    "    def get_distance_from_name1(name2):\n",
    "        return get_distance(name1, name2)\n",
    "    return get_distance_from_name1\n"
   ]
  },
  {
   "cell_type": "code",
   "execution_count": 37,
   "id": "caroline-offset",
   "metadata": {},
   "outputs": [],
   "source": [
    "import numpy as np"
   ]
  },
  {
   "cell_type": "code",
   "execution_count": null,
   "id": "liked-problem",
   "metadata": {},
   "outputs": [],
   "source": []
  },
  {
   "cell_type": "code",
   "execution_count": 38,
   "id": "sapphire-opera",
   "metadata": {},
   "outputs": [
    {
     "name": "stdout",
     "output_type": "stream",
     "text": [
      "순위 0 : 이름(d2), 거리(0.4919614825903834)\n",
      "순위 1 : 이름(d4), 거리(0.5254961257170706)\n",
      "순위 2 : 이름(d7), 거리(0.5260505655199156)\n"
     ]
    }
   ],
   "source": [
    "get_nearest_face(\"me\", top=2)"
   ]
  },
  {
   "cell_type": "code",
   "execution_count": 39,
   "id": "changing-hygiene",
   "metadata": {},
   "outputs": [
    {
     "name": "stdout",
     "output_type": "stream",
     "text": [
      "순위 0 : 이름(d6), 거리(0.4817747899941213)\n",
      "순위 1 : 이름(d2), 거리(0.5262563634199137)\n",
      "순위 2 : 이름(d8), 거리(0.5408765229185213)\n"
     ]
    }
   ],
   "source": [
    "get_nearest_face(\"jooyoung\", top=2)"
   ]
  },
  {
   "cell_type": "code",
   "execution_count": 40,
   "id": "better-satin",
   "metadata": {},
   "outputs": [],
   "source": [
    "def get_face_embedding_dict(dir_path):\n",
    "    # [[YOUR CODE]]\n",
    "        \n",
    "    return embedding_dict"
   ]
  },
  {
   "cell_type": "code",
   "execution_count": null,
   "id": "saved-possession",
   "metadata": {},
   "outputs": [],
   "source": []
  },
  {
   "cell_type": "code",
   "execution_count": null,
   "id": "reduced-retail",
   "metadata": {},
   "outputs": [],
   "source": []
  }
 ],
 "metadata": {
  "kernelspec": {
   "display_name": "Python 3",
   "language": "python",
   "name": "python3"
  },
  "language_info": {
   "codemirror_mode": {
    "name": "ipython",
    "version": 3
   },
   "file_extension": ".py",
   "mimetype": "text/x-python",
   "name": "python",
   "nbconvert_exporter": "python",
   "pygments_lexer": "ipython3",
   "version": "3.7.9"
  }
 },
 "nbformat": 4,
 "nbformat_minor": 5
}
