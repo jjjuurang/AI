{
 "cells": [
  {
   "cell_type": "code",
   "execution_count": 1,
   "id": "hindu-hartford",
   "metadata": {},
   "outputs": [
    {
     "name": "stdout",
     "output_type": "stream",
     "text": [
      "✔\n"
     ]
    }
   ],
   "source": [
    "import tensorflow as tf\n",
    "from tensorflow import keras\n",
    "import numpy as np\n",
    "import matplotlib.pyplot as plt\n",
    "\n",
    "print('✔')"
   ]
  },
  {
   "cell_type": "code",
   "execution_count": 2,
   "id": "metropolitan-rubber",
   "metadata": {},
   "outputs": [
    {
     "name": "stdout",
     "output_type": "stream",
     "text": [
      "✔\n"
     ]
    }
   ],
   "source": [
    "# 단일 레이어 구현 함수\n",
    "def affine_layer_forward(X, W, b):\n",
    "    y = np.dot(X, W) + b\n",
    "    cache = (X, W, b)\n",
    "    return y, cache\n",
    "\n",
    "print('✔')"
   ]
  },
  {
   "cell_type": "code",
   "execution_count": 3,
   "id": "altered-junior",
   "metadata": {},
   "outputs": [
    {
     "name": "stdout",
     "output_type": "stream",
     "text": [
      "✔\n"
     ]
    }
   ],
   "source": [
    "# sigmoid 함수를 구현해 봅니다.\n",
    "def sigmoid(x):\n",
    "    return 1 / (1 + np.exp(-x))  \n",
    "\n",
    "print('✔')"
   ]
  },
  {
   "cell_type": "code",
   "execution_count": 4,
   "id": "labeled-floor",
   "metadata": {},
   "outputs": [
    {
     "name": "stdout",
     "output_type": "stream",
     "text": [
      "✔\n"
     ]
    }
   ],
   "source": [
    "# softmax함수를 구현해 봅니다.\n",
    "def softmax(x):\n",
    "    if x.ndim == 2:\n",
    "        x = x.T\n",
    "        x = x - np.max(x, axis=0)\n",
    "        y = np.exp(x) / np.sum(np.exp(x), axis=0)\n",
    "        return y.T \n",
    "\n",
    "print('✔')"
   ]
  },
  {
   "cell_type": "code",
   "execution_count": 5,
   "id": "liable-possession",
   "metadata": {},
   "outputs": [
    {
     "name": "stdout",
     "output_type": "stream",
     "text": [
      "✔\n"
     ]
    }
   ],
   "source": [
    "# 정답 라벨을 One-hot 인코딩하는 함수\n",
    "def _change_one_hot_label(X, num_category):\n",
    "    T = np.zeros((X.size, num_category))\n",
    "    for idx, row in enumerate(T):\n",
    "        row[X[idx]] = 1\n",
    "        \n",
    "    return T\n",
    "\n",
    "print('✔')"
   ]
  },
  {
   "cell_type": "code",
   "execution_count": 6,
   "id": "hollow-quest",
   "metadata": {},
   "outputs": [
    {
     "name": "stdout",
     "output_type": "stream",
     "text": [
      "✔\n"
     ]
    }
   ],
   "source": [
    "def cross_entropy_error(y, t):\n",
    "    if y.ndim == 1:\n",
    "        t = t.reshape(1, t.size)\n",
    "        y = y.reshape(1, y.size)\n",
    "        \n",
    "    # 훈련 데이터가 원-핫 벡터라면 정답 레이블의 인덱스로 반환\n",
    "    if t.size == y.size:\n",
    "        t = t.argmax(axis=1)\n",
    "             \n",
    "    batch_size = y.shape[0]\n",
    "    return -np.sum(np.log(y[np.arange(batch_size), t])) / batch_size\n",
    "\n",
    "print('✔')"
   ]
  },
  {
   "cell_type": "code",
   "execution_count": 7,
   "id": "danish-checklist",
   "metadata": {},
   "outputs": [
    {
     "name": "stdout",
     "output_type": "stream",
     "text": [
      "✔\n"
     ]
    }
   ],
   "source": [
    "def sigmoid_grad(x):\n",
    "    return (1.0 - sigmoid(x)) * sigmoid(x)\n",
    "\n",
    "print('✔')"
   ]
  },
  {
   "cell_type": "code",
   "execution_count": 8,
   "id": "departmental-agency",
   "metadata": {},
   "outputs": [
    {
     "name": "stdout",
     "output_type": "stream",
     "text": [
      "✔\n"
     ]
    }
   ],
   "source": [
    "def update_params(W1, b1, W2, b2, dW1, db1, dW2, db2, learning_rate):\n",
    "    W1 = W1 - learning_rate*dW1\n",
    "    b1 = b1 - learning_rate*db1\n",
    "    W2 = W2 - learning_rate*dW2\n",
    "    b2 = b2 - learning_rate*db2\n",
    "    return W1, b1, W2, b2\n",
    "\n",
    "print('✔')"
   ]
  },
  {
   "cell_type": "code",
   "execution_count": 9,
   "id": "exterior-settlement",
   "metadata": {},
   "outputs": [
    {
     "name": "stdout",
     "output_type": "stream",
     "text": [
      "✔\n"
     ]
    }
   ],
   "source": [
    "def affine_layer_backward(dy, cache):\n",
    "    X, W, b = cache\n",
    "    dX = np.dot(dy, W.T)\n",
    "    dW = np.dot(X.T, dy)\n",
    "    db = np.sum(dy, axis=0)\n",
    "    return dX, dW, db\n",
    "\n",
    "print('✔')"
   ]
  },
  {
   "cell_type": "code",
   "execution_count": 10,
   "id": "decent-jacob",
   "metadata": {},
   "outputs": [
    {
     "name": "stdout",
     "output_type": "stream",
     "text": [
      "Downloading data from https://storage.googleapis.com/tensorflow/tf-keras-datasets/mnist.npz\n",
      "11493376/11490434 [==============================] - 0s 0us/step\n",
      "(5, 784)\n"
     ]
    }
   ],
   "source": [
    "# MNIST 데이터를 로드. 다운로드하지 않았다면 다운로드까지 자동으로 진행됩니다. \n",
    "mnist = keras.datasets.mnist\n",
    "(x_train, y_train), (x_test, y_test) = mnist.load_data()   \n",
    "\n",
    "# 모델에 맞게 데이터 가공\n",
    "x_train_norm, x_test_norm = x_train / 255.0, x_test / 255.0\n",
    "x_train_reshaped = x_train_norm.reshape(-1, x_train_norm.shape[1]*x_train_norm.shape[2])\n",
    "x_test_reshaped = x_test_norm.reshape(-1, x_test_norm.shape[1]*x_test_norm.shape[2])\n",
    "\n",
    "# 테스트를 위해 x_train_reshaped의 앞 5개의 데이터를 가져온다.\n",
    "X = x_train_reshaped[:5]\n",
    "print(X.shape)"
   ]
  },
  {
   "cell_type": "code",
   "execution_count": 11,
   "id": "suffering-boards",
   "metadata": {},
   "outputs": [
    {
     "name": "stdout",
     "output_type": "stream",
     "text": [
      "[[0.0991301  0.11281803 0.12614852 0.07409564 0.07036859 0.20545233\n",
      "  0.0757873  0.06514806 0.04304046 0.12801097]\n",
      " [0.10558955 0.11001125 0.12355019 0.07197359 0.0666534  0.21853192\n",
      "  0.08214981 0.05981194 0.04460351 0.11712484]\n",
      " [0.12357788 0.10714128 0.11568274 0.09434321 0.05823364 0.15874355\n",
      "  0.09094992 0.05598416 0.05603949 0.13930412]\n",
      " [0.11229385 0.11177309 0.1275864  0.08352784 0.08711719 0.16004652\n",
      "  0.07784795 0.06509401 0.04301289 0.13170028]\n",
      " [0.11071728 0.11310537 0.14797325 0.07670425 0.08471601 0.1463425\n",
      "  0.08633279 0.05906571 0.04387991 0.13116294]]\n",
      "[[0. 0. 0. 0. 0. 1. 0. 0. 0. 0.]\n",
      " [1. 0. 0. 0. 0. 0. 0. 0. 0. 0.]\n",
      " [0. 0. 0. 0. 1. 0. 0. 0. 0. 0.]\n",
      " [0. 1. 0. 0. 0. 0. 0. 0. 0. 0.]\n",
      " [0. 0. 0. 0. 0. 0. 0. 0. 0. 1.]]\n",
      "Loss:  2.1793257216163306\n",
      "계산해서 나온 더하거나 뺄 값\n",
      "[-0.09800502 -0.00385152  0.05946568  0.03565321 -0.00502945 -0.06710655\n",
      "  0.0376183   0.02876609  0.02081848 -0.00832922]\n",
      "오차역전법 수행전\n",
      "[ 0.04536055 -0.12644239 -0.12008597 -0.11202337 -0.02498368 -0.01175178\n",
      " -0.12045584  0.01394423  0.07172657 -0.03195669]\n",
      "오차역전법 수행후\n",
      "[ 0.05516106 -0.12605723 -0.12603253 -0.11558869 -0.02448073 -0.00504112\n",
      " -0.12421767  0.01106762  0.06964472 -0.03112376]\n"
     ]
    }
   ],
   "source": [
    "weight_init_std = 0.1\n",
    "input_size = 784\n",
    "hidden_size=50\n",
    "output_size = 10\n",
    "Y_digit = y_train[:5]\n",
    "\n",
    "# 파라미터 초기화\n",
    "W1 = weight_init_std * np.random.randn(input_size, hidden_size)\n",
    "b1 = np.zeros(hidden_size)\n",
    "W2 = weight_init_std * np.random.randn(hidden_size, output_size)\n",
    "b2 = np.zeros(output_size)\n",
    "\n",
    "# Forward Propagation\n",
    "a1, cache1 = affine_layer_forward(X, W1, b1)\n",
    "z1 = sigmoid(a1)\n",
    "a2, cache2 = affine_layer_forward(z1, W2, b2)\n",
    "\n",
    "# 추론과 오차(Loss) 계산\n",
    "y_hat = softmax(a2)\n",
    "t = _change_one_hot_label(Y_digit, 10)   # 정답 One-hot 인코딩\n",
    "Loss = cross_entropy_error(y_hat, t)\n",
    "\n",
    "print(y_hat)\n",
    "print(t)\n",
    "print('Loss: ', Loss)\n",
    "        \n",
    "dy = (y_hat - t) / X.shape[0]\n",
    "dz1, dW2, db2 = affine_layer_backward(dy, cache2)\n",
    "da1 = sigmoid_grad(a1) * dz1\n",
    "dX, dW1, db1 = affine_layer_backward(da1, cache1)\n",
    "\n",
    "# 경사하강법을 통한 파라미터 업데이트    \n",
    "learning_rate = 0.1\n",
    "print('계산해서 나온 더하거나 뺄 값')\n",
    "print(dW2[0])\n",
    "print('오차역전법 수행전')\n",
    "print(W2[0])\n",
    "W1, b1, W2, b2 = update_params(W1, b1, W2, b2, dW1, db1, dW2, db2, learning_rate)\n",
    "print('오차역전법 수행후')\n",
    "print(W2[0])"
   ]
  },
  {
   "cell_type": "code",
   "execution_count": 12,
   "id": "available-monthly",
   "metadata": {},
   "outputs": [],
   "source": [
    "W1 = weight_init_std * np.random.randn(input_size, hidden_size)\n",
    "b1 = np.zeros(hidden_size)\n",
    "W2 = weight_init_std * np.random.randn(hidden_size, output_size)\n",
    "b2 = np.zeros(output_size)\n",
    "\n",
    "def train_step(X, Y, W1, b1, W2, b2, learning_rate=0.1, verbose=False):\n",
    "    a1, cache1 = affine_layer_forward(X, W1, b1)\n",
    "    z1 = sigmoid(a1)\n",
    "    a2, cache2 = affine_layer_forward(z1, W2, b2)\n",
    "    y_hat = softmax(a2)\n",
    "    t = _change_one_hot_label(Y, 10)\n",
    "    Loss = cross_entropy_error(y_hat, t)\n",
    "\n",
    "    if verbose:\n",
    "        print('---------')\n",
    "        print(y_hat)\n",
    "        print(t)\n",
    "        print('Loss: ', Loss)\n",
    "        \n",
    "    dy = (y_hat - t) / X.shape[0]\n",
    "    dz1, dW2, db2 = affine_layer_backward(dy, cache2)\n",
    "    da1 = sigmoid_grad(a1) * dz1\n",
    "    dX, dW1, db1 = affine_layer_backward(da1, cache1)\n",
    "    \n",
    "    W1, b1, W2, b2 = update_params(W1, b1, W2, b2, dW1, db1, dW2, db2, learning_rate)\n",
    "    \n",
    "    return W1, b1, W2, b2, Loss"
   ]
  },
  {
   "cell_type": "code",
   "execution_count": 13,
   "id": "insured-distribution",
   "metadata": {
    "scrolled": true
   },
   "outputs": [
    {
     "name": "stdout",
     "output_type": "stream",
     "text": [
      "---------\n",
      "[[0.06724147 0.0613363  0.13619846 0.19820448 0.06403229 0.12174081\n",
      "  0.09516184 0.09158281 0.10965872 0.05484282]\n",
      " [0.06862619 0.06090159 0.17110485 0.21107473 0.05516034 0.09097122\n",
      "  0.0942809  0.09408585 0.10457863 0.04921569]\n",
      " [0.07459204 0.06769868 0.14546388 0.17920416 0.05211409 0.12198972\n",
      "  0.10560128 0.09311255 0.09704594 0.06317767]\n",
      " [0.06271959 0.06489262 0.14740119 0.19009103 0.06240134 0.11319753\n",
      "  0.09879983 0.08265912 0.11918517 0.05865259]\n",
      " [0.06524674 0.07348419 0.1507942  0.17534686 0.05463736 0.10454401\n",
      "  0.12525712 0.08126278 0.11211881 0.05730792]]\n",
      "[[0. 0. 0. 0. 0. 1. 0. 0. 0. 0.]\n",
      " [1. 0. 0. 0. 0. 0. 0. 0. 0. 0.]\n",
      " [0. 0. 0. 0. 1. 0. 0. 0. 0. 0.]\n",
      " [0. 1. 0. 0. 0. 0. 0. 0. 0. 0.]\n",
      " [0. 0. 0. 0. 0. 0. 0. 0. 0. 1.]]\n",
      "Loss:  2.666719948787117\n",
      "---------\n",
      "[[0.08723388 0.07984368 0.11024451 0.14841145 0.08122305 0.15501093\n",
      "  0.0846892  0.08361357 0.09567327 0.07405645]\n",
      " [0.09450066 0.08004636 0.14182722 0.16235623 0.07228128 0.11386055\n",
      "  0.08585166 0.08770853 0.09354368 0.06802382]\n",
      " [0.09458302 0.08531002 0.11989822 0.13946533 0.06860353 0.14429676\n",
      "  0.09445764 0.08481509 0.08604104 0.08252934]\n",
      " [0.0800966  0.08682185 0.12140857 0.14571227 0.07941061 0.13744192\n",
      "  0.08860499 0.07599919 0.10531211 0.07919188]\n",
      " [0.08559835 0.09704646 0.12158031 0.1311612  0.07060361 0.12798066\n",
      "  0.11164984 0.0741727  0.09830858 0.0818983 ]]\n",
      "[[0. 0. 0. 0. 0. 1. 0. 0. 0. 0.]\n",
      " [1. 0. 0. 0. 0. 0. 0. 0. 0. 0.]\n",
      " [0. 0. 0. 0. 1. 0. 0. 0. 0. 0.]\n",
      " [0. 1. 0. 0. 0. 0. 0. 0. 0. 0.]\n",
      " [0. 0. 0. 0. 0. 0. 0. 0. 0. 1.]]\n",
      "Loss:  2.3697986713693737\n",
      "---------\n",
      "[[0.10421169 0.09568688 0.08925793 0.11475562 0.0955949  0.18058409\n",
      "  0.07310162 0.07362126 0.0812873  0.09189871]\n",
      " [0.11931085 0.09646761 0.11725669 0.12842227 0.08737592 0.12989883\n",
      "  0.07555861 0.07856259 0.08112784 0.08601879]\n",
      " [0.11176747 0.10023069 0.09947343 0.11235809 0.08463325 0.15826984\n",
      "  0.08272806 0.07524986 0.07497964 0.10030969]\n",
      " [0.0946562  0.10750335 0.10019938 0.11527709 0.09412452 0.15352104\n",
      "  0.07734125 0.06762609 0.09092211 0.09882896]\n",
      " [0.10300001 0.11760683 0.09804915 0.10131007 0.08432571 0.14294195\n",
      "  0.09647909 0.06521746 0.08385118 0.10721854]]\n",
      "[[0. 0. 0. 0. 0. 1. 0. 0. 0. 0.]\n",
      " [1. 0. 0. 0. 0. 0. 0. 0. 0. 0.]\n",
      " [0. 0. 0. 0. 1. 0. 0. 0. 0. 0.]\n",
      " [0. 1. 0. 0. 0. 0. 0. 0. 0. 0.]\n",
      " [0. 0. 0. 0. 0. 0. 0. 0. 0. 1.]]\n",
      "Loss:  2.1540258185836416\n",
      "---------\n",
      "[[0.11788109 0.1084889  0.07309173 0.09118785 0.10721254 0.19930695\n",
      "  0.06259124 0.06402315 0.06873817 0.10747838]\n",
      " [0.14203012 0.10955562 0.09770584 0.10392386 0.10011591 0.13988737\n",
      "  0.06572221 0.06923678 0.06972296 0.10209933]\n",
      " [0.12587062 0.11224102 0.08365178 0.09300149 0.09994474 0.16578739\n",
      "  0.07220194 0.06626038 0.06528859 0.11575205]\n",
      " [0.10609909 0.12622459 0.08360612 0.09353735 0.10639285 0.16288511\n",
      "  0.06702851 0.05948703 0.07817012 0.11656922]\n",
      " [0.11686677 0.13440085 0.07990264 0.08029848 0.09556561 0.15086872\n",
      "  0.08262777 0.05655017 0.07107205 0.13184695]]\n",
      "[[0. 0. 0. 0. 0. 1. 0. 0. 0. 0.]\n",
      " [1. 0. 0. 0. 0. 0. 0. 0. 0. 0.]\n",
      " [0. 0. 0. 0. 1. 0. 0. 0. 0. 0.]\n",
      " [0. 1. 0. 0. 0. 0. 0. 0. 0. 0.]\n",
      " [0. 0. 0. 0. 0. 0. 0. 0. 0. 1.]]\n",
      "Loss:  1.992713843089517\n",
      "---------\n",
      "[[0.12856035 0.11846355 0.06076441 0.07422968 0.11648517 0.21328475\n",
      "  0.05372973 0.05564961 0.05842908 0.12040366]\n",
      " [0.16244591 0.11944351 0.08238211 0.08581197 0.11065282 0.14561829\n",
      "  0.05713052 0.06078913 0.0600116  0.11571416]\n",
      " [0.13713212 0.1215897  0.0714112  0.07871579 0.1145287  0.16916667\n",
      "  0.06329208 0.05843102 0.05720385 0.12852885]\n",
      " [0.1146864  0.1428868  0.07073042 0.07755633 0.11644489 0.16775891\n",
      "  0.058227   0.05228855 0.06751018 0.13191052]\n",
      " [0.12740838 0.14757373 0.06604103 0.06508787 0.10454206 0.15412769\n",
      "  0.07089985 0.04895089 0.06047302 0.15489549]]\n",
      "[[0. 0. 0. 0. 0. 1. 0. 0. 0. 0.]\n",
      " [1. 0. 0. 0. 0. 0. 0. 0. 0. 0.]\n",
      " [0. 0. 0. 0. 1. 0. 0. 0. 0. 0.]\n",
      " [0. 1. 0. 0. 0. 0. 0. 0. 0. 0.]\n",
      " [0. 0. 0. 0. 0. 0. 0. 0. 0. 1.]]\n",
      "Loss:  1.8680348801502138\n"
     ]
    }
   ],
   "source": [
    "X = x_train_reshaped[:5]\n",
    "Y = y_train[:5]\n",
    "\n",
    "# train_step을 다섯 번 반복 돌립니다.\n",
    "for i in range(5):\n",
    "    W1, b1, W2, b2, _ = train_step(X, Y, W1, b1, W2, b2, learning_rate=0.1, verbose=True)"
   ]
  },
  {
   "cell_type": "code",
   "execution_count": 14,
   "id": "perceived-commodity",
   "metadata": {},
   "outputs": [],
   "source": [
    "def predict(W1, b1, W2, b2, X):\n",
    "    a1 = np.dot(X, W1) + b1\n",
    "    z1 = sigmoid(a1)\n",
    "    a2 = np.dot(z1, W2) + b2\n",
    "    y = softmax(a2)\n",
    "\n",
    "    return y"
   ]
  },
  {
   "cell_type": "code",
   "execution_count": 15,
   "id": "embedded-victory",
   "metadata": {},
   "outputs": [
    {
     "data": {
      "text/plain": [
       "array([0.13676814, 0.12605043, 0.05130959, 0.06171889, 0.12385373,\n",
       "       0.22447629, 0.04645546, 0.0486174 , 0.05012643, 0.13062364])"
      ]
     },
     "execution_count": 15,
     "metadata": {},
     "output_type": "execute_result"
    }
   ],
   "source": [
    "# X = x_train[:100] 에 대해 모델 추론을 시도합니다. \n",
    "X = x_train_reshaped[:100]\n",
    "Y = y_test[:100]\n",
    "result = predict(W1, b1, W2, b2, X)\n",
    "result[0]"
   ]
  },
  {
   "cell_type": "code",
   "execution_count": 16,
   "id": "moved-flash",
   "metadata": {},
   "outputs": [],
   "source": [
    "def accuracy(W1, b1, W2, b2, x, y):\n",
    "    y_hat = predict(W1, b1, W2, b2, x)\n",
    "    y_hat = np.argmax(y_hat, axis=1)\n",
    "\n",
    "    accuracy = np.sum(y_hat == y) / float(x.shape[0])\n",
    "    return accuracy"
   ]
  },
  {
   "cell_type": "code",
   "execution_count": 17,
   "id": "synthetic-protest",
   "metadata": {},
   "outputs": [
    {
     "name": "stdout",
     "output_type": "stream",
     "text": [
      "[0.13676814 0.12605043 0.05130959 0.06171889 0.12385373 0.22447629\n",
      " 0.04645546 0.0486174  0.05012643 0.13062364]\n",
      "[0. 0. 0. 0. 0. 0. 0. 1. 0. 0.]\n",
      "0.06\n"
     ]
    }
   ],
   "source": [
    "acc = accuracy(W1, b1, W2, b2, X, Y)\n",
    "\n",
    "t = _change_one_hot_label(Y, 10)\n",
    "print(result[0])\n",
    "print(t[0])\n",
    "print(acc)"
   ]
  },
  {
   "cell_type": "code",
   "execution_count": 18,
   "id": "regional-provincial",
   "metadata": {},
   "outputs": [],
   "source": [
    "def init_params(input_size, hidden_size, output_size, weight_init_std=0.01):\n",
    "\n",
    "    W1 = weight_init_std * np.random.randn(input_size, hidden_size)\n",
    "    b1 = np.zeros(hidden_size)\n",
    "    W2 = weight_init_std * np.random.randn(hidden_size, output_size)\n",
    "    b2 = np.zeros(output_size)\n",
    "\n",
    "    print(W1.shape)\n",
    "    print(b1.shape)\n",
    "    print(W2.shape)\n",
    "    print(b2.shape)\n",
    "    \n",
    "    return W1, b1, W2, b2"
   ]
  },
  {
   "cell_type": "code",
   "execution_count": 19,
   "id": "rapid-roller",
   "metadata": {},
   "outputs": [
    {
     "name": "stdout",
     "output_type": "stream",
     "text": [
      "(784, 50)\n",
      "(50,)\n",
      "(50, 10)\n",
      "(10,)\n",
      "Loss:  2.3061738507723875\n",
      "train acc, test acc | 0.09751666666666667, 0.0974\n",
      "Loss:  0.8249320690392341\n",
      "train acc, test acc | 0.7783833333333333, 0.7796\n",
      "Loss:  0.539085510111661\n",
      "train acc, test acc | 0.8752333333333333, 0.8786\n",
      "Loss:  0.302568142132684\n",
      "train acc, test acc | 0.8966833333333334, 0.9\n",
      "Loss:  0.4635565919573188\n",
      "train acc, test acc | 0.9080166666666667, 0.9097\n",
      "Loss:  0.2928958985034441\n",
      "train acc, test acc | 0.9141666666666667, 0.9152\n",
      "Loss:  0.3246720702004458\n",
      "train acc, test acc | 0.9199166666666667, 0.9206\n",
      "Loss:  0.3512712272879332\n",
      "train acc, test acc | 0.9229833333333334, 0.9249\n",
      "Loss:  0.1855354368235529\n",
      "train acc, test acc | 0.92795, 0.9289\n",
      "Loss:  0.14290554228100683\n",
      "train acc, test acc | 0.9309166666666666, 0.9311\n",
      "Loss:  0.21261183959072416\n",
      "train acc, test acc | 0.9340333333333334, 0.9336\n",
      "Loss:  0.2276271174325152\n",
      "train acc, test acc | 0.9378333333333333, 0.9376\n",
      "Loss:  0.26725853533463156\n",
      "train acc, test acc | 0.94005, 0.939\n",
      "Loss:  0.13602403001255756\n",
      "train acc, test acc | 0.9424333333333333, 0.9415\n",
      "Loss:  0.16377486920798526\n",
      "train acc, test acc | 0.94435, 0.9433\n",
      "Loss:  0.11980457857190109\n",
      "train acc, test acc | 0.9463666666666667, 0.9441\n",
      "Loss:  0.32837741864464737\n",
      "train acc, test acc | 0.9484833333333333, 0.9461\n",
      "Loss:  0.1127679689666417\n",
      "train acc, test acc | 0.9501166666666667, 0.9478\n",
      "Loss:  0.11708235523169569\n",
      "train acc, test acc | 0.9518333333333333, 0.9494\n",
      "Loss:  0.17894451290786378\n",
      "train acc, test acc | 0.9527833333333333, 0.9506\n",
      "Loss:  0.16435423566088314\n",
      "train acc, test acc | 0.95455, 0.9529\n",
      "Loss:  0.09397282145764457\n",
      "train acc, test acc | 0.9557, 0.9532\n",
      "Loss:  0.0984283508316578\n",
      "train acc, test acc | 0.9572333333333334, 0.9545\n",
      "Loss:  0.17987620413361782\n",
      "train acc, test acc | 0.95785, 0.9557\n",
      "Loss:  0.12377497114612954\n",
      "train acc, test acc | 0.959, 0.9566\n",
      "Loss:  0.1847978882374835\n",
      "train acc, test acc | 0.9603833333333334, 0.9571\n",
      "Loss:  0.07618604763129508\n",
      "train acc, test acc | 0.9610333333333333, 0.9571\n",
      "Loss:  0.18946141310643938\n",
      "train acc, test acc | 0.9619666666666666, 0.9586\n",
      "Loss:  0.07888007177635459\n",
      "train acc, test acc | 0.9629666666666666, 0.9591\n",
      "Loss:  0.07957295065415855\n",
      "train acc, test acc | 0.9640333333333333, 0.9601\n",
      "Loss:  0.10086042082791315\n",
      "train acc, test acc | 0.96495, 0.9599\n",
      "Loss:  0.10552603656236094\n",
      "train acc, test acc | 0.9654166666666667, 0.9613\n",
      "Loss:  0.17895425743960966\n",
      "train acc, test acc | 0.9659166666666666, 0.9613\n",
      "Loss:  0.08096064377924246\n",
      "train acc, test acc | 0.96725, 0.9617\n",
      "Loss:  0.069666069138332\n",
      "train acc, test acc | 0.9676, 0.9629\n",
      "Loss:  0.10363908837734435\n",
      "train acc, test acc | 0.9686333333333333, 0.9633\n",
      "Loss:  0.0803349340117415\n",
      "train acc, test acc | 0.96905, 0.9631\n",
      "Loss:  0.10679107302968543\n",
      "train acc, test acc | 0.9702, 0.9638\n",
      "Loss:  0.19013119392459718\n",
      "train acc, test acc | 0.9701333333333333, 0.9636\n",
      "Loss:  0.06575542973555004\n",
      "train acc, test acc | 0.9710833333333333, 0.9649\n",
      "Loss:  0.10411913874785819\n",
      "train acc, test acc | 0.9713666666666667, 0.9648\n",
      "Loss:  0.05894182299150058\n",
      "train acc, test acc | 0.9721166666666666, 0.9657\n",
      "Loss:  0.10680255483273698\n",
      "train acc, test acc | 0.9727833333333333, 0.9656\n",
      "Loss:  0.09152224251831986\n",
      "train acc, test acc | 0.97335, 0.9659\n",
      "Loss:  0.11121087643498337\n",
      "train acc, test acc | 0.9736166666666667, 0.9666\n",
      "Loss:  0.08019038728476958\n",
      "train acc, test acc | 0.9739166666666667, 0.9656\n",
      "Loss:  0.0634779848304574\n",
      "train acc, test acc | 0.9744333333333334, 0.9674\n",
      "Loss:  0.053819058924980706\n",
      "train acc, test acc | 0.9749166666666667, 0.9671\n",
      "Loss:  0.047140999774011316\n",
      "train acc, test acc | 0.9753833333333334, 0.9679\n",
      "Loss:  0.0892761768896187\n",
      "train acc, test acc | 0.9757, 0.9675\n",
      "Loss:  0.08802642023040413\n",
      "train acc, test acc | 0.9757, 0.9682\n",
      "Loss:  0.08162377664791544\n",
      "train acc, test acc | 0.97575, 0.9686\n",
      "Loss:  0.08113783259643804\n",
      "train acc, test acc | 0.9766833333333333, 0.9681\n",
      "Loss:  0.05059197183722273\n",
      "train acc, test acc | 0.9768833333333333, 0.9689\n",
      "Loss:  0.08072167196326398\n",
      "train acc, test acc | 0.9770833333333333, 0.9692\n",
      "Loss:  0.24706752125215442\n",
      "train acc, test acc | 0.97775, 0.9696\n",
      "Loss:  0.06660761149651871\n",
      "train acc, test acc | 0.9775166666666667, 0.9703\n",
      "Loss:  0.19030356611839047\n",
      "train acc, test acc | 0.9782666666666666, 0.969\n",
      "Loss:  0.0992306027811745\n",
      "train acc, test acc | 0.9783833333333334, 0.9694\n",
      "Loss:  0.08070584975406202\n",
      "train acc, test acc | 0.9783333333333334, 0.9702\n",
      "Loss:  0.06375961965956735\n",
      "train acc, test acc | 0.9788166666666667, 0.9704\n",
      "Loss:  0.08320409987328739\n",
      "train acc, test acc | 0.97925, 0.9698\n",
      "Loss:  0.11577828365366406\n",
      "train acc, test acc | 0.9791833333333333, 0.9701\n",
      "Loss:  0.03386320252012188\n",
      "train acc, test acc | 0.9795333333333334, 0.9704\n",
      "Loss:  0.08557102317998254\n",
      "train acc, test acc | 0.9803, 0.9702\n",
      "Loss:  0.109196996800482\n",
      "train acc, test acc | 0.9803, 0.9709\n",
      "Loss:  0.030840554320560397\n",
      "train acc, test acc | 0.9805166666666667, 0.9708\n",
      "Loss:  0.03159151602038409\n",
      "train acc, test acc | 0.9806166666666667, 0.9708\n",
      "Loss:  0.02312816184547557\n",
      "train acc, test acc | 0.9809333333333333, 0.9713\n",
      "Loss:  0.051491588142538236\n",
      "train acc, test acc | 0.9812833333333333, 0.9712\n",
      "Loss:  0.042707093298881275\n",
      "train acc, test acc | 0.9815333333333334, 0.9712\n",
      "Loss:  0.06467400008583965\n",
      "train acc, test acc | 0.9817833333333333, 0.9713\n",
      "Loss:  0.06144938654691525\n",
      "train acc, test acc | 0.9817833333333333, 0.9712\n",
      "Loss:  0.024113078060454846\n",
      "train acc, test acc | 0.9819166666666667, 0.9727\n",
      "Loss:  0.0415686016458893\n",
      "train acc, test acc | 0.9822166666666666, 0.9721\n",
      "Loss:  0.10339456796253749\n",
      "train acc, test acc | 0.9824, 0.9726\n",
      "Loss:  0.05505803234393976\n",
      "train acc, test acc | 0.9824666666666667, 0.9723\n",
      "Loss:  0.06820155434139097\n",
      "train acc, test acc | 0.9827, 0.9731\n",
      "Loss:  0.04388779270715241\n",
      "train acc, test acc | 0.9827666666666667, 0.9723\n",
      "Loss:  0.03641837342354533\n",
      "train acc, test acc | 0.9831333333333333, 0.9719\n",
      "Loss:  0.04385014232425305\n",
      "train acc, test acc | 0.98315, 0.9723\n",
      "Loss:  0.05319040036207334\n",
      "train acc, test acc | 0.9835, 0.9725\n",
      "Loss:  0.01984507712424302\n",
      "train acc, test acc | 0.9837333333333333, 0.9732\n",
      "Loss:  0.046245499194294624\n",
      "train acc, test acc | 0.9837666666666667, 0.9735\n"
     ]
    }
   ],
   "source": [
    "# 하이퍼파라미터\n",
    "iters_num = 50000  # 반복 횟수를 적절히 설정한다.\n",
    "train_size = x_train.shape[0]\n",
    "batch_size = 100   # 미니배치 크기\n",
    "learning_rate = 0.1\n",
    "\n",
    "train_loss_list = []\n",
    "train_acc_list = []\n",
    "test_acc_list = []\n",
    "\n",
    "# 1에폭당 반복 수\n",
    "iter_per_epoch = max(train_size / batch_size, 1)\n",
    "\n",
    "W1, b1, W2, b2 = init_params(784, 50, 10)\n",
    "\n",
    "for i in range(iters_num):\n",
    "    # 미니배치 획득\n",
    "    batch_mask = np.random.choice(train_size, batch_size)\n",
    "    x_batch = x_train_reshaped[batch_mask]\n",
    "    y_batch = y_train[batch_mask]\n",
    "    \n",
    "    W1, b1, W2, b2, Loss = train_step(x_batch, y_batch, W1, b1, W2, b2, learning_rate=0.1, verbose=False)\n",
    "\n",
    "    # 학습 경과 기록\n",
    "    train_loss_list.append(Loss)\n",
    "    \n",
    "    # 1에폭당 정확도 계산\n",
    "    if i % iter_per_epoch == 0:\n",
    "        print('Loss: ', Loss)\n",
    "        train_acc = accuracy(W1, b1, W2, b2, x_train_reshaped, y_train)\n",
    "        test_acc = accuracy(W1, b1, W2, b2, x_test_reshaped, y_test)\n",
    "        train_acc_list.append(train_acc)\n",
    "        test_acc_list.append(test_acc)\n",
    "        print(\"train acc, test acc | \" + str(train_acc) + \", \" + str(test_acc))"
   ]
  },
  {
   "cell_type": "code",
   "execution_count": 20,
   "id": "optional-orlando",
   "metadata": {},
   "outputs": [
    {
     "data": {
      "image/png": "[encoded data removed]",
      "text/plain": [
       "<Figure size 864x432 with 1 Axes>"
      ]
     },
     "metadata": {
      "needs_background": "light"
     },
     "output_type": "display_data"
    }
   ],
   "source": [
    "from matplotlib.pylab import rcParams\n",
    "rcParams['figure.figsize'] = 12, 6 \n",
    "\n",
    "# Accuracy 그래프 그리기\n",
    "markers = {'train': 'o', 'test': 's'}\n",
    "x = np.arange(len(train_acc_list))\n",
    "plt.plot(x, train_acc_list, label='train acc')\n",
    "plt.plot(x, test_acc_list, label='test acc', linestyle='--')\n",
    "plt.xlabel(\"epochs\")\n",
    "plt.ylabel(\"accuracy\")\n",
    "plt.ylim(0, 1.0)\n",
    "plt.legend(loc='lower right')\n",
    "plt.show()"
   ]
  },
  {
   "cell_type": "code",
   "execution_count": 21,
   "id": "tough-leave",
   "metadata": {},
   "outputs": [
    {
     "data": {
      "image/png": "[encoded data removed]",
      "text/plain": [
       "<Figure size 864x432 with 1 Axes>"
      ]
     },
     "metadata": {
      "needs_background": "light"
     },
     "output_type": "display_data"
    }
   ],
   "source": [
    "# Loss 그래프 그리기\n",
    "x = np.arange(len(train_loss_list))\n",
    "plt.plot(x, train_loss_list, label='train acc')\n",
    "plt.xlabel(\"epochs\")\n",
    "plt.ylabel(\"Loss\")\n",
    "plt.ylim(0, 3.0)\n",
    "plt.legend(loc='best')\n",
    "plt.show()"
   ]
  },
  {
   "cell_type": "code",
   "execution_count": null,
   "id": "attended-infrared",
   "metadata": {},
   "outputs": [],
   "source": []
  }
 ],
 "metadata": {
  "kernelspec": {
   "display_name": "Python 3",
   "language": "python",
   "name": "python3"
  },
  "language_info": {
   "codemirror_mode": {
    "name": "ipython",
    "version": 3
   },
   "file_extension": ".py",
   "mimetype": "text/x-python",
   "name": "python",
   "nbconvert_exporter": "python",
   "pygments_lexer": "ipython3",
   "version": "3.7.9"
  }
 },
 "nbformat": 4,
 "nbformat_minor": 5
}
