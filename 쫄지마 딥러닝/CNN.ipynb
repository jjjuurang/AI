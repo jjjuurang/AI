{
 "cells": [
  {
   "cell_type": "code",
   "execution_count": 1,
   "id": "communist-better",
   "metadata": {},
   "outputs": [
    {
     "name": "stdout",
     "output_type": "stream",
     "text": [
      "입력 이미지 데이터: (1, 1920, 1080, 3)\n",
      "이미지 데이터 값 개수:  (1, 6220800)\n",
      "\n",
      "\n",
      "단일 필터 Convolution 레이어: (5, 5, 3, 1)\n",
      "단일 필터 Convolution 레이어의 파라미터 수: 75\n",
      "단일 필터 Convolution 결과 이미지: (1, 1916, 1076, 1)\n",
      "단일 필터 Convolution 결과 이미지 데이터 수:  (1, 2061616)\n",
      "\n",
      "\n",
      "16개 필터 Convolution 레이어: (5, 5, 3, 16)\n",
      "16개 필터 Convolution 레이어의 파라미터 수: 1200\n",
      "16개 필터 Convolution 결과 이미지: (1, 1916, 1076, 16)\n",
      "16개 필터 Convolution 결과 이미지 데이터 수: (1, 32985856)\n"
     ]
    }
   ],
   "source": [
    "import tensorflow as tf\n",
    "\n",
    "# 1장 x 가로 1920 픽셀 x 세로 1080 픽셀 x 3채널(빨, 초, 파)\n",
    "pic = tf.zeros((1, 1920, 1080, 3))\n",
    "print(\"입력 이미지 데이터:\", pic.shape)\n",
    "pic_flatten_out = tf.keras.layers.Flatten()(pic)\n",
    "print(\"이미지 데이터 값 개수: \", pic_flatten_out.shape)\n",
    "print(\"\\n\")\n",
    "\n",
    "single_conv_layer = tf.keras.layers.Conv2D(filters=1, # 1개 필터\n",
    "                                    kernel_size=(5, 5),    # 5 x 5 크기\n",
    "                                    use_bias=False)    # bias에 대해서는 여기서는 설명하지 않습니다.\n",
    "single_conv_out = single_conv_layer(pic)\n",
    "print(\"단일 필터 Convolution 레이어:\", single_conv_layer.weights[0].shape)\n",
    "print(\"단일 필터 Convolution 레이어의 파라미터 수:\", single_conv_layer.count_params())\n",
    "print(\"단일 필터 Convolution 결과 이미지:\", single_conv_out.shape)\n",
    "single_flatten_out = tf.keras.layers.Flatten()(single_conv_out)\n",
    "print(\"단일 필터 Convolution 결과 이미지 데이터 수: \", single_flatten_out.shape)\n",
    "print(\"\\n\")\n",
    "\n",
    "multiple_conv_layer = tf.keras.layers.Conv2D(filters=16, # 16개 필터\n",
    "                                    kernel_size=(5, 5),    # 5 x 5 크기\n",
    "                                    use_bias=False)    # bias에 대해서는 여기서는 설명하지 않습니다.\n",
    "multiple_conv_out = multiple_conv_layer(pic)\n",
    "print(\"16개 필터 Convolution 레이어:\", multiple_conv_layer.weights[0].shape)\n",
    "print(\"16개 필터 Convolution 레이어의 파라미터 수:\", multiple_conv_layer.count_params())\n",
    "print(\"16개 필터 Convolution 결과 이미지:\", multiple_conv_out.shape)\n",
    "multiple_flatten_out = tf.keras.layers.Flatten()(multiple_conv_out)\n",
    "print(\"16개 필터 Convolution 결과 이미지 데이터 수:\", multiple_flatten_out.shape)"
   ]
  },
  {
   "cell_type": "code",
   "execution_count": 2,
   "id": "threatened-chinese",
   "metadata": {},
   "outputs": [
    {
     "name": "stdout",
     "output_type": "stream",
     "text": [
      "입력 이미지 데이터: (1, 1920, 1080, 3)\n",
      "\n",
      "\n",
      "16개 필터 Convolution 결과 데이터: (1, 1916, 1076, 16)\n",
      "\n",
      "\n",
      "Pooling 결과 데이터: (1, 958, 538, 16)\n"
     ]
    }
   ],
   "source": [
    "# 1장 x 가로 1920 픽셀 x 세로 1080 픽셀 x 3채널(빨, 초, 파)\n",
    "pic = tf.zeros((1, 1920, 1080, 3))\n",
    "print(\"입력 이미지 데이터:\", pic.shape)\n",
    "print('\\n')\n",
    "\n",
    "conv_layer = tf.keras.layers.Conv2D(filters=16, # 16개 필터\n",
    "                                    kernel_size=(5, 5),    # 5 x 5 크기\n",
    "                                    use_bias=False)    # bias에 대해서는 여기서는 설명하지 않습니다.\n",
    "conv_out = conv_layer(pic)\n",
    "print(\"16개 필터 Convolution 결과 데이터:\", conv_out.shape)\n",
    "print('\\n')\n",
    "\n",
    "pool_layer = tf.keras.layers.MaxPool2D(pool_size=(2, 2), strides=(2, 2))\n",
    "pool_out = pool_layer(conv_out)\n",
    "print(\"Pooling 결과 데이터:\", pool_out.shape)"
   ]
  },
  {
   "cell_type": "code",
   "execution_count": null,
   "id": "plastic-james",
   "metadata": {},
   "outputs": [],
   "source": []
  }
 ],
 "metadata": {
  "kernelspec": {
   "display_name": "Python 3",
   "language": "python",
   "name": "python3"
  },
  "language_info": {
   "codemirror_mode": {
    "name": "ipython",
    "version": 3
   },
   "file_extension": ".py",
   "mimetype": "text/x-python",
   "name": "python",
   "nbconvert_exporter": "python",
   "pygments_lexer": "ipython3",
   "version": "3.7.9"
  }
 },
 "nbformat": 4,
 "nbformat_minor": 5
}
