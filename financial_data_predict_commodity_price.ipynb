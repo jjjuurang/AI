{
  "nbformat": 4,
  "nbformat_minor": 0,
  "metadata": {
    "colab": {
      "name": "financial_data_predict_commodity_price.ipynb",
      "provenance": [],
      "collapsed_sections": [
        "t3J2t4Ymf0UF",
        "ESYLyhWeiRrf"
      ]
    },
    "kernelspec": {
      "name": "python3",
      "display_name": "Python 3"
    },
    "language_info": {
      "name": "python"
    },
    "accelerator": "GPU"
  },
  "cells": [
    {
      "cell_type": "markdown",
      "source": [
        "data from https://www.kaggle.com/mattiuzc/commodity-futures-price-history\n"
      ],
      "metadata": {
        "id": "ohP561iSdS78"
      }
    },
    {
      "cell_type": "markdown",
      "source": [
        "# 데이터 압축 풀기"
      ],
      "metadata": {
        "id": "xIEVVEF1frW-"
      }
    },
    {
      "cell_type": "code",
      "source": [
        "!wget https://github.com/dhrim/deep_learning_data/raw/master/commodity.zip"
      ],
      "metadata": {
        "colab": {
          "base_uri": "https://localhost:8080/"
        },
        "id": "ZnvrQDxheBkc",
        "outputId": "72aa583d-0e97-41e2-8cc7-54761654d15f"
      },
      "execution_count": 1,
      "outputs": [
        {
          "output_type": "stream",
          "name": "stdout",
          "text": [
            "--2022-01-19 06:41:16--  https://github.com/dhrim/deep_learning_data/raw/master/commodity.zip\n",
            "Resolving github.com (github.com)... 52.192.72.89\n",
            "Connecting to github.com (github.com)|52.192.72.89|:443... connected.\n",
            "HTTP request sent, awaiting response... 302 Found\n",
            "Location: https://raw.githubusercontent.com/dhrim/deep_learning_data/master/commodity.zip [following]\n",
            "--2022-01-19 06:41:16--  https://raw.githubusercontent.com/dhrim/deep_learning_data/master/commodity.zip\n",
            "Resolving raw.githubusercontent.com (raw.githubusercontent.com)... 185.199.109.133, 185.199.110.133, 185.199.108.133, ...\n",
            "Connecting to raw.githubusercontent.com (raw.githubusercontent.com)|185.199.109.133|:443... connected.\n",
            "HTTP request sent, awaiting response... 200 OK\n",
            "Length: 1835488 (1.8M) [application/zip]\n",
            "Saving to: ‘commodity.zip’\n",
            "\n",
            "commodity.zip       100%[===================>]   1.75M  --.-KB/s    in 0.07s   \n",
            "\n",
            "2022-01-19 06:41:16 (24.5 MB/s) - ‘commodity.zip’ saved [1835488/1835488]\n",
            "\n"
          ]
        }
      ]
    },
    {
      "cell_type": "code",
      "execution_count": 2,
      "metadata": {
        "colab": {
          "base_uri": "https://localhost:8080/"
        },
        "id": "TJ7oZpj0dDrn",
        "outputId": "f99ded58-cfd5-4de6-e0e8-3a5446656b8c"
      },
      "outputs": [
        {
          "output_type": "stream",
          "name": "stdout",
          "text": [
            "Archive:  commodity.zip\n",
            "   creating: commodity/\n",
            "  inflating: commodity/Natural Gas.csv  \n",
            "  inflating: commodity/Soybean.csv   \n",
            "  inflating: commodity/Gold.csv      \n",
            "  inflating: commodity/Platinum.csv  \n",
            "  inflating: commodity/Heating Oil.csv  \n",
            "  inflating: commodity/Palladium.csv  \n",
            "  inflating: commodity/Silver.csv    \n",
            "  inflating: commodity/Lumber.csv    \n",
            "  inflating: commodity/Lean Hogs.csv  \n",
            "  inflating: commodity/Soybean Meal.csv  \n",
            "  inflating: commodity/Copper.csv    \n",
            "  inflating: commodity/Live Cattle.csv  \n",
            "  inflating: commodity/Soybean Oil.csv  \n",
            "  inflating: commodity/Brent Crude Oil.csv  \n",
            "  inflating: commodity/Cotton.csv    \n",
            "  inflating: commodity/RBOB Gasoline.csv  \n",
            "  inflating: commodity/Oat.csv       \n",
            "  inflating: commodity/Coffee.csv    \n",
            "  inflating: commodity/Wheat.csv     \n",
            "  inflating: commodity/Sugar.csv     \n",
            "  inflating: commodity/Corn.csv      \n",
            "  inflating: commodity/Crude Oil.csv  \n",
            "  inflating: commodity/Cocoa.csv     \n",
            "  inflating: commodity/Feeder Cattle.csv  \n"
          ]
        }
      ],
      "source": [
        "!rm -rf commodity\n",
        "!unzip commodity.zip"
      ]
    },
    {
      "cell_type": "code",
      "source": [
        "import numpy as np\n",
        "import pandas as pd\n",
        "import matplotlib.pyplot as plt"
      ],
      "metadata": {
        "id": "JRjPtpGXdW0L"
      },
      "execution_count": 3,
      "outputs": []
    },
    {
      "cell_type": "markdown",
      "source": [
        "# 파라매터 설정"
      ],
      "metadata": {
        "id": "37eayrO3y-3K"
      }
    },
    {
      "cell_type": "code",
      "source": [
        "SEQUENCE_LENGTH = 10\n",
        "OFFSET = 1\n",
        "BATCH_SIZE = 32"
      ],
      "metadata": {
        "id": "F2iE0M7Hy6Q6"
      },
      "execution_count": 4,
      "outputs": []
    },
    {
      "cell_type": "markdown",
      "source": [
        "# 데이터 로딩"
      ],
      "metadata": {
        "id": "Zu_4OtD_ftsY"
      }
    },
    {
      "cell_type": "code",
      "source": [
        "df = pd.read_csv(\"commodity/Gold.csv\")\n",
        "df.head()"
      ],
      "metadata": {
        "id": "wa0m-Q6wEKmh",
        "outputId": "b56049a5-fbe8-418a-e5a3-7380303c7737",
        "colab": {
          "base_uri": "https://localhost:8080/",
          "height": 206
        }
      },
      "execution_count": 5,
      "outputs": [
        {
          "output_type": "execute_result",
          "data": {
            "text/html": [
              "\n",
              "  <div id=\"df-9f11fac3-d653-43a0-b709-a3d26583e36c\">\n",
              "    <div class=\"colab-df-container\">\n",
              "      <div>\n",
              "<style scoped>\n",
              "    .dataframe tbody tr th:only-of-type {\n",
              "        vertical-align: middle;\n",
              "    }\n",
              "\n",
              "    .dataframe tbody tr th {\n",
              "        vertical-align: top;\n",
              "    }\n",
              "\n",
              "    .dataframe thead th {\n",
              "        text-align: right;\n",
              "    }\n",
              "</style>\n",
              "<table border=\"1\" class=\"dataframe\">\n",
              "  <thead>\n",
              "    <tr style=\"text-align: right;\">\n",
              "      <th></th>\n",
              "      <th>Date</th>\n",
              "      <th>Open</th>\n",
              "      <th>High</th>\n",
              "      <th>Low</th>\n",
              "      <th>Close</th>\n",
              "      <th>Adj Close</th>\n",
              "      <th>Volume</th>\n",
              "    </tr>\n",
              "  </thead>\n",
              "  <tbody>\n",
              "    <tr>\n",
              "      <th>0</th>\n",
              "      <td>2000-08-30</td>\n",
              "      <td>273.899994</td>\n",
              "      <td>273.899994</td>\n",
              "      <td>273.899994</td>\n",
              "      <td>273.899994</td>\n",
              "      <td>273.899994</td>\n",
              "      <td>0.0</td>\n",
              "    </tr>\n",
              "    <tr>\n",
              "      <th>1</th>\n",
              "      <td>2000-08-31</td>\n",
              "      <td>274.799988</td>\n",
              "      <td>278.299988</td>\n",
              "      <td>274.799988</td>\n",
              "      <td>278.299988</td>\n",
              "      <td>278.299988</td>\n",
              "      <td>0.0</td>\n",
              "    </tr>\n",
              "    <tr>\n",
              "      <th>2</th>\n",
              "      <td>2000-09-01</td>\n",
              "      <td>277.000000</td>\n",
              "      <td>277.000000</td>\n",
              "      <td>277.000000</td>\n",
              "      <td>277.000000</td>\n",
              "      <td>277.000000</td>\n",
              "      <td>0.0</td>\n",
              "    </tr>\n",
              "    <tr>\n",
              "      <th>3</th>\n",
              "      <td>2000-09-04</td>\n",
              "      <td>NaN</td>\n",
              "      <td>NaN</td>\n",
              "      <td>NaN</td>\n",
              "      <td>NaN</td>\n",
              "      <td>NaN</td>\n",
              "      <td>NaN</td>\n",
              "    </tr>\n",
              "    <tr>\n",
              "      <th>4</th>\n",
              "      <td>2000-09-05</td>\n",
              "      <td>275.799988</td>\n",
              "      <td>275.799988</td>\n",
              "      <td>275.799988</td>\n",
              "      <td>275.799988</td>\n",
              "      <td>275.799988</td>\n",
              "      <td>2.0</td>\n",
              "    </tr>\n",
              "  </tbody>\n",
              "</table>\n",
              "</div>\n",
              "      <button class=\"colab-df-convert\" onclick=\"convertToInteractive('df-9f11fac3-d653-43a0-b709-a3d26583e36c')\"\n",
              "              title=\"Convert this dataframe to an interactive table.\"\n",
              "              style=\"display:none;\">\n",
              "        \n",
              "  <svg xmlns=\"http://www.w3.org/2000/svg\" height=\"24px\"viewBox=\"0 0 24 24\"\n",
              "       width=\"24px\">\n",
              "    <path d=\"M0 0h24v24H0V0z\" fill=\"none\"/>\n",
              "    <path d=\"M18.56 5.44l.94 2.06.94-2.06 2.06-.94-2.06-.94-.94-2.06-.94 2.06-2.06.94zm-11 1L8.5 8.5l.94-2.06 2.06-.94-2.06-.94L8.5 2.5l-.94 2.06-2.06.94zm10 10l.94 2.06.94-2.06 2.06-.94-2.06-.94-.94-2.06-.94 2.06-2.06.94z\"/><path d=\"M17.41 7.96l-1.37-1.37c-.4-.4-.92-.59-1.43-.59-.52 0-1.04.2-1.43.59L10.3 9.45l-7.72 7.72c-.78.78-.78 2.05 0 2.83L4 21.41c.39.39.9.59 1.41.59.51 0 1.02-.2 1.41-.59l7.78-7.78 2.81-2.81c.8-.78.8-2.07 0-2.86zM5.41 20L4 18.59l7.72-7.72 1.47 1.35L5.41 20z\"/>\n",
              "  </svg>\n",
              "      </button>\n",
              "      \n",
              "  <style>\n",
              "    .colab-df-container {\n",
              "      display:flex;\n",
              "      flex-wrap:wrap;\n",
              "      gap: 12px;\n",
              "    }\n",
              "\n",
              "    .colab-df-convert {\n",
              "      background-color: #E8F0FE;\n",
              "      border: none;\n",
              "      border-radius: 50%;\n",
              "      cursor: pointer;\n",
              "      display: none;\n",
              "      fill: #1967D2;\n",
              "      height: 32px;\n",
              "      padding: 0 0 0 0;\n",
              "      width: 32px;\n",
              "    }\n",
              "\n",
              "    .colab-df-convert:hover {\n",
              "      background-color: #E2EBFA;\n",
              "      box-shadow: 0px 1px 2px rgba(60, 64, 67, 0.3), 0px 1px 3px 1px rgba(60, 64, 67, 0.15);\n",
              "      fill: #174EA6;\n",
              "    }\n",
              "\n",
              "    [theme=dark] .colab-df-convert {\n",
              "      background-color: #3B4455;\n",
              "      fill: #D2E3FC;\n",
              "    }\n",
              "\n",
              "    [theme=dark] .colab-df-convert:hover {\n",
              "      background-color: #434B5C;\n",
              "      box-shadow: 0px 1px 3px 1px rgba(0, 0, 0, 0.15);\n",
              "      filter: drop-shadow(0px 1px 2px rgba(0, 0, 0, 0.3));\n",
              "      fill: #FFFFFF;\n",
              "    }\n",
              "  </style>\n",
              "\n",
              "      <script>\n",
              "        const buttonEl =\n",
              "          document.querySelector('#df-9f11fac3-d653-43a0-b709-a3d26583e36c button.colab-df-convert');\n",
              "        buttonEl.style.display =\n",
              "          google.colab.kernel.accessAllowed ? 'block' : 'none';\n",
              "\n",
              "        async function convertToInteractive(key) {\n",
              "          const element = document.querySelector('#df-9f11fac3-d653-43a0-b709-a3d26583e36c');\n",
              "          const dataTable =\n",
              "            await google.colab.kernel.invokeFunction('convertToInteractive',\n",
              "                                                     [key], {});\n",
              "          if (!dataTable) return;\n",
              "\n",
              "          const docLinkHtml = 'Like what you see? Visit the ' +\n",
              "            '<a target=\"_blank\" href=https://colab.research.google.com/notebooks/data_table.ipynb>data table notebook</a>'\n",
              "            + ' to learn more about interactive tables.';\n",
              "          element.innerHTML = '';\n",
              "          dataTable['output_type'] = 'display_data';\n",
              "          await google.colab.output.renderOutput(dataTable, element);\n",
              "          const docLink = document.createElement('div');\n",
              "          docLink.innerHTML = docLinkHtml;\n",
              "          element.appendChild(docLink);\n",
              "        }\n",
              "      </script>\n",
              "    </div>\n",
              "  </div>\n",
              "  "
            ],
            "text/plain": [
              "         Date        Open        High  ...       Close   Adj Close  Volume\n",
              "0  2000-08-30  273.899994  273.899994  ...  273.899994  273.899994     0.0\n",
              "1  2000-08-31  274.799988  278.299988  ...  278.299988  278.299988     0.0\n",
              "2  2000-09-01  277.000000  277.000000  ...  277.000000  277.000000     0.0\n",
              "3  2000-09-04         NaN         NaN  ...         NaN         NaN     NaN\n",
              "4  2000-09-05  275.799988  275.799988  ...  275.799988  275.799988     2.0\n",
              "\n",
              "[5 rows x 7 columns]"
            ]
          },
          "metadata": {},
          "execution_count": 5
        }
      ]
    },
    {
      "cell_type": "code",
      "source": [
        "df = pd.read_csv(\"commodity/Silver.csv\")\n",
        "df.head()"
      ],
      "metadata": {
        "colab": {
          "base_uri": "https://localhost:8080/",
          "height": 206
        },
        "id": "g4lWKXiCdcP8",
        "outputId": "21d624c8-83ac-400a-e9a9-88f496adc6e8"
      },
      "execution_count": null,
      "outputs": [
        {
          "output_type": "execute_result",
          "data": {
            "text/html": [
              "\n",
              "  <div id=\"df-23ba62e7-c4b0-4240-8d37-15068178f354\">\n",
              "    <div class=\"colab-df-container\">\n",
              "      <div>\n",
              "<style scoped>\n",
              "    .dataframe tbody tr th:only-of-type {\n",
              "        vertical-align: middle;\n",
              "    }\n",
              "\n",
              "    .dataframe tbody tr th {\n",
              "        vertical-align: top;\n",
              "    }\n",
              "\n",
              "    .dataframe thead th {\n",
              "        text-align: right;\n",
              "    }\n",
              "</style>\n",
              "<table border=\"1\" class=\"dataframe\">\n",
              "  <thead>\n",
              "    <tr style=\"text-align: right;\">\n",
              "      <th></th>\n",
              "      <th>Date</th>\n",
              "      <th>Open</th>\n",
              "      <th>High</th>\n",
              "      <th>Low</th>\n",
              "      <th>Close</th>\n",
              "      <th>Adj Close</th>\n",
              "      <th>Volume</th>\n",
              "    </tr>\n",
              "  </thead>\n",
              "  <tbody>\n",
              "    <tr>\n",
              "      <th>0</th>\n",
              "      <td>2000-08-30</td>\n",
              "      <td>4.950</td>\n",
              "      <td>4.950</td>\n",
              "      <td>4.895</td>\n",
              "      <td>4.930</td>\n",
              "      <td>4.930</td>\n",
              "      <td>2319.0</td>\n",
              "    </tr>\n",
              "    <tr>\n",
              "      <th>1</th>\n",
              "      <td>2000-08-31</td>\n",
              "      <td>4.920</td>\n",
              "      <td>5.045</td>\n",
              "      <td>4.920</td>\n",
              "      <td>5.003</td>\n",
              "      <td>5.003</td>\n",
              "      <td>1612.0</td>\n",
              "    </tr>\n",
              "    <tr>\n",
              "      <th>2</th>\n",
              "      <td>2000-09-01</td>\n",
              "      <td>5.035</td>\n",
              "      <td>5.035</td>\n",
              "      <td>4.985</td>\n",
              "      <td>5.004</td>\n",
              "      <td>5.004</td>\n",
              "      <td>1375.0</td>\n",
              "    </tr>\n",
              "    <tr>\n",
              "      <th>3</th>\n",
              "      <td>2000-09-04</td>\n",
              "      <td>NaN</td>\n",
              "      <td>NaN</td>\n",
              "      <td>NaN</td>\n",
              "      <td>NaN</td>\n",
              "      <td>NaN</td>\n",
              "      <td>NaN</td>\n",
              "    </tr>\n",
              "    <tr>\n",
              "      <th>4</th>\n",
              "      <td>2000-09-05</td>\n",
              "      <td>4.990</td>\n",
              "      <td>5.005</td>\n",
              "      <td>4.975</td>\n",
              "      <td>4.998</td>\n",
              "      <td>4.998</td>\n",
              "      <td>856.0</td>\n",
              "    </tr>\n",
              "  </tbody>\n",
              "</table>\n",
              "</div>\n",
              "      <button class=\"colab-df-convert\" onclick=\"convertToInteractive('df-23ba62e7-c4b0-4240-8d37-15068178f354')\"\n",
              "              title=\"Convert this dataframe to an interactive table.\"\n",
              "              style=\"display:none;\">\n",
              "        \n",
              "  <svg xmlns=\"http://www.w3.org/2000/svg\" height=\"24px\"viewBox=\"0 0 24 24\"\n",
              "       width=\"24px\">\n",
              "    <path d=\"M0 0h24v24H0V0z\" fill=\"none\"/>\n",
              "    <path d=\"M18.56 5.44l.94 2.06.94-2.06 2.06-.94-2.06-.94-.94-2.06-.94 2.06-2.06.94zm-11 1L8.5 8.5l.94-2.06 2.06-.94-2.06-.94L8.5 2.5l-.94 2.06-2.06.94zm10 10l.94 2.06.94-2.06 2.06-.94-2.06-.94-.94-2.06-.94 2.06-2.06.94z\"/><path d=\"M17.41 7.96l-1.37-1.37c-.4-.4-.92-.59-1.43-.59-.52 0-1.04.2-1.43.59L10.3 9.45l-7.72 7.72c-.78.78-.78 2.05 0 2.83L4 21.41c.39.39.9.59 1.41.59.51 0 1.02-.2 1.41-.59l7.78-7.78 2.81-2.81c.8-.78.8-2.07 0-2.86zM5.41 20L4 18.59l7.72-7.72 1.47 1.35L5.41 20z\"/>\n",
              "  </svg>\n",
              "      </button>\n",
              "      \n",
              "  <style>\n",
              "    .colab-df-container {\n",
              "      display:flex;\n",
              "      flex-wrap:wrap;\n",
              "      gap: 12px;\n",
              "    }\n",
              "\n",
              "    .colab-df-convert {\n",
              "      background-color: #E8F0FE;\n",
              "      border: none;\n",
              "      border-radius: 50%;\n",
              "      cursor: pointer;\n",
              "      display: none;\n",
              "      fill: #1967D2;\n",
              "      height: 32px;\n",
              "      padding: 0 0 0 0;\n",
              "      width: 32px;\n",
              "    }\n",
              "\n",
              "    .colab-df-convert:hover {\n",
              "      background-color: #E2EBFA;\n",
              "      box-shadow: 0px 1px 2px rgba(60, 64, 67, 0.3), 0px 1px 3px 1px rgba(60, 64, 67, 0.15);\n",
              "      fill: #174EA6;\n",
              "    }\n",
              "\n",
              "    [theme=dark] .colab-df-convert {\n",
              "      background-color: #3B4455;\n",
              "      fill: #D2E3FC;\n",
              "    }\n",
              "\n",
              "    [theme=dark] .colab-df-convert:hover {\n",
              "      background-color: #434B5C;\n",
              "      box-shadow: 0px 1px 3px 1px rgba(0, 0, 0, 0.15);\n",
              "      filter: drop-shadow(0px 1px 2px rgba(0, 0, 0, 0.3));\n",
              "      fill: #FFFFFF;\n",
              "    }\n",
              "  </style>\n",
              "\n",
              "      <script>\n",
              "        const buttonEl =\n",
              "          document.querySelector('#df-23ba62e7-c4b0-4240-8d37-15068178f354 button.colab-df-convert');\n",
              "        buttonEl.style.display =\n",
              "          google.colab.kernel.accessAllowed ? 'block' : 'none';\n",
              "\n",
              "        async function convertToInteractive(key) {\n",
              "          const element = document.querySelector('#df-23ba62e7-c4b0-4240-8d37-15068178f354');\n",
              "          const dataTable =\n",
              "            await google.colab.kernel.invokeFunction('convertToInteractive',\n",
              "                                                     [key], {});\n",
              "          if (!dataTable) return;\n",
              "\n",
              "          const docLinkHtml = 'Like what you see? Visit the ' +\n",
              "            '<a target=\"_blank\" href=https://colab.research.google.com/notebooks/data_table.ipynb>data table notebook</a>'\n",
              "            + ' to learn more about interactive tables.';\n",
              "          element.innerHTML = '';\n",
              "          dataTable['output_type'] = 'display_data';\n",
              "          await google.colab.output.renderOutput(dataTable, element);\n",
              "          const docLink = document.createElement('div');\n",
              "          docLink.innerHTML = docLinkHtml;\n",
              "          element.appendChild(docLink);\n",
              "        }\n",
              "      </script>\n",
              "    </div>\n",
              "  </div>\n",
              "  "
            ],
            "text/plain": [
              "         Date   Open   High    Low  Close  Adj Close  Volume\n",
              "0  2000-08-30  4.950  4.950  4.895  4.930      4.930  2319.0\n",
              "1  2000-08-31  4.920  5.045  4.920  5.003      5.003  1612.0\n",
              "2  2000-09-01  5.035  5.035  4.985  5.004      5.004  1375.0\n",
              "3  2000-09-04    NaN    NaN    NaN    NaN        NaN     NaN\n",
              "4  2000-09-05  4.990  5.005  4.975  4.998      4.998   856.0"
            ]
          },
          "metadata": {},
          "execution_count": 130
        }
      ]
    },
    {
      "cell_type": "code",
      "source": [
        "print(len(df))"
      ],
      "metadata": {
        "colab": {
          "base_uri": "https://localhost:8080/"
        },
        "id": "er07xkbpdnLf",
        "outputId": "5f91b9dc-db8d-450c-dbd9-1058830f9547"
      },
      "execution_count": 6,
      "outputs": [
        {
          "output_type": "stream",
          "name": "stdout",
          "text": [
            "5291\n"
          ]
        }
      ]
    },
    {
      "cell_type": "markdown",
      "source": [
        "# 결측치 처리"
      ],
      "metadata": {
        "id": "kh7oOvIifwgm"
      }
    },
    {
      "cell_type": "code",
      "source": [
        "df.info()"
      ],
      "metadata": {
        "colab": {
          "base_uri": "https://localhost:8080/"
        },
        "id": "suMkYKdTduGY",
        "outputId": "b8a4f4b4-2eb1-4265-8eec-a8a1125dd99c"
      },
      "execution_count": 7,
      "outputs": [
        {
          "output_type": "stream",
          "name": "stdout",
          "text": [
            "<class 'pandas.core.frame.DataFrame'>\n",
            "RangeIndex: 5291 entries, 0 to 5290\n",
            "Data columns (total 7 columns):\n",
            " #   Column     Non-Null Count  Dtype  \n",
            "---  ------     --------------  -----  \n",
            " 0   Date       5291 non-null   object \n",
            " 1   Open       5179 non-null   float64\n",
            " 2   High       5179 non-null   float64\n",
            " 3   Low        5179 non-null   float64\n",
            " 4   Close      5179 non-null   float64\n",
            " 5   Adj Close  5179 non-null   float64\n",
            " 6   Volume     5179 non-null   float64\n",
            "dtypes: float64(6), object(1)\n",
            "memory usage: 289.5+ KB\n"
          ]
        }
      ]
    },
    {
      "cell_type": "code",
      "source": [
        "df.isnull().sum()"
      ],
      "metadata": {
        "colab": {
          "base_uri": "https://localhost:8080/"
        },
        "id": "8VlYB3fEd0bM",
        "outputId": "6f4ed979-a982-4ef8-eca3-8a3709fe2e06"
      },
      "execution_count": 8,
      "outputs": [
        {
          "output_type": "execute_result",
          "data": {
            "text/plain": [
              "Date           0\n",
              "Open         112\n",
              "High         112\n",
              "Low          112\n",
              "Close        112\n",
              "Adj Close    112\n",
              "Volume       112\n",
              "dtype: int64"
            ]
          },
          "metadata": {},
          "execution_count": 8
        }
      ]
    },
    {
      "cell_type": "code",
      "source": [
        "df = df.dropna()"
      ],
      "metadata": {
        "id": "uMf9RDKZd9WC"
      },
      "execution_count": 9,
      "outputs": []
    },
    {
      "cell_type": "code",
      "source": [
        "df.isnull().sum()"
      ],
      "metadata": {
        "colab": {
          "base_uri": "https://localhost:8080/"
        },
        "id": "dnO_h4QJeH8t",
        "outputId": "fad581ee-d327-49ff-8a45-155463d092e4"
      },
      "execution_count": 10,
      "outputs": [
        {
          "output_type": "execute_result",
          "data": {
            "text/plain": [
              "Date         0\n",
              "Open         0\n",
              "High         0\n",
              "Low          0\n",
              "Close        0\n",
              "Adj Close    0\n",
              "Volume       0\n",
              "dtype: int64"
            ]
          },
          "metadata": {},
          "execution_count": 10
        }
      ]
    },
    {
      "cell_type": "code",
      "source": [
        "df.info()"
      ],
      "metadata": {
        "colab": {
          "base_uri": "https://localhost:8080/"
        },
        "id": "YMIpK7ebeROK",
        "outputId": "68d159cf-46f6-47e7-9fbb-24f2e5062ad3"
      },
      "execution_count": 11,
      "outputs": [
        {
          "output_type": "stream",
          "name": "stdout",
          "text": [
            "<class 'pandas.core.frame.DataFrame'>\n",
            "Int64Index: 5179 entries, 0 to 5290\n",
            "Data columns (total 7 columns):\n",
            " #   Column     Non-Null Count  Dtype  \n",
            "---  ------     --------------  -----  \n",
            " 0   Date       5179 non-null   object \n",
            " 1   Open       5179 non-null   float64\n",
            " 2   High       5179 non-null   float64\n",
            " 3   Low        5179 non-null   float64\n",
            " 4   Close      5179 non-null   float64\n",
            " 5   Adj Close  5179 non-null   float64\n",
            " 6   Volume     5179 non-null   float64\n",
            "dtypes: float64(6), object(1)\n",
            "memory usage: 323.7+ KB\n"
          ]
        }
      ]
    },
    {
      "cell_type": "markdown",
      "source": [
        "# 정렬 순서 확인"
      ],
      "metadata": {
        "id": "t3J2t4Ymf0UF"
      }
    },
    {
      "cell_type": "code",
      "source": [
        "df.sort_values(by=[\"Date\"])"
      ],
      "metadata": {
        "colab": {
          "base_uri": "https://localhost:8080/",
          "height": 424
        },
        "id": "_ms5GTSxew67",
        "outputId": "f12c6bc0-a7a2-4372-81d1-37f782252325"
      },
      "execution_count": 12,
      "outputs": [
        {
          "output_type": "execute_result",
          "data": {
            "text/html": [
              "\n",
              "  <div id=\"df-01978eef-12f4-4189-8c71-2963adb9fbda\">\n",
              "    <div class=\"colab-df-container\">\n",
              "      <div>\n",
              "<style scoped>\n",
              "    .dataframe tbody tr th:only-of-type {\n",
              "        vertical-align: middle;\n",
              "    }\n",
              "\n",
              "    .dataframe tbody tr th {\n",
              "        vertical-align: top;\n",
              "    }\n",
              "\n",
              "    .dataframe thead th {\n",
              "        text-align: right;\n",
              "    }\n",
              "</style>\n",
              "<table border=\"1\" class=\"dataframe\">\n",
              "  <thead>\n",
              "    <tr style=\"text-align: right;\">\n",
              "      <th></th>\n",
              "      <th>Date</th>\n",
              "      <th>Open</th>\n",
              "      <th>High</th>\n",
              "      <th>Low</th>\n",
              "      <th>Close</th>\n",
              "      <th>Adj Close</th>\n",
              "      <th>Volume</th>\n",
              "    </tr>\n",
              "  </thead>\n",
              "  <tbody>\n",
              "    <tr>\n",
              "      <th>0</th>\n",
              "      <td>2000-08-30</td>\n",
              "      <td>273.899994</td>\n",
              "      <td>273.899994</td>\n",
              "      <td>273.899994</td>\n",
              "      <td>273.899994</td>\n",
              "      <td>273.899994</td>\n",
              "      <td>0.0</td>\n",
              "    </tr>\n",
              "    <tr>\n",
              "      <th>1</th>\n",
              "      <td>2000-08-31</td>\n",
              "      <td>274.799988</td>\n",
              "      <td>278.299988</td>\n",
              "      <td>274.799988</td>\n",
              "      <td>278.299988</td>\n",
              "      <td>278.299988</td>\n",
              "      <td>0.0</td>\n",
              "    </tr>\n",
              "    <tr>\n",
              "      <th>2</th>\n",
              "      <td>2000-09-01</td>\n",
              "      <td>277.000000</td>\n",
              "      <td>277.000000</td>\n",
              "      <td>277.000000</td>\n",
              "      <td>277.000000</td>\n",
              "      <td>277.000000</td>\n",
              "      <td>0.0</td>\n",
              "    </tr>\n",
              "    <tr>\n",
              "      <th>4</th>\n",
              "      <td>2000-09-05</td>\n",
              "      <td>275.799988</td>\n",
              "      <td>275.799988</td>\n",
              "      <td>275.799988</td>\n",
              "      <td>275.799988</td>\n",
              "      <td>275.799988</td>\n",
              "      <td>2.0</td>\n",
              "    </tr>\n",
              "    <tr>\n",
              "      <th>5</th>\n",
              "      <td>2000-09-06</td>\n",
              "      <td>274.200012</td>\n",
              "      <td>274.200012</td>\n",
              "      <td>274.200012</td>\n",
              "      <td>274.200012</td>\n",
              "      <td>274.200012</td>\n",
              "      <td>0.0</td>\n",
              "    </tr>\n",
              "    <tr>\n",
              "      <th>...</th>\n",
              "      <td>...</td>\n",
              "      <td>...</td>\n",
              "      <td>...</td>\n",
              "      <td>...</td>\n",
              "      <td>...</td>\n",
              "      <td>...</td>\n",
              "      <td>...</td>\n",
              "    </tr>\n",
              "    <tr>\n",
              "      <th>5286</th>\n",
              "      <td>2021-06-03</td>\n",
              "      <td>1908.800049</td>\n",
              "      <td>1908.800049</td>\n",
              "      <td>1865.000000</td>\n",
              "      <td>1871.199951</td>\n",
              "      <td>1871.199951</td>\n",
              "      <td>1021.0</td>\n",
              "    </tr>\n",
              "    <tr>\n",
              "      <th>5287</th>\n",
              "      <td>2021-06-04</td>\n",
              "      <td>1869.300049</td>\n",
              "      <td>1895.500000</td>\n",
              "      <td>1854.000000</td>\n",
              "      <td>1889.800049</td>\n",
              "      <td>1889.800049</td>\n",
              "      <td>367.0</td>\n",
              "    </tr>\n",
              "    <tr>\n",
              "      <th>5288</th>\n",
              "      <td>2021-06-07</td>\n",
              "      <td>1890.500000</td>\n",
              "      <td>1899.699951</td>\n",
              "      <td>1883.199951</td>\n",
              "      <td>1896.800049</td>\n",
              "      <td>1896.800049</td>\n",
              "      <td>87.0</td>\n",
              "    </tr>\n",
              "    <tr>\n",
              "      <th>5289</th>\n",
              "      <td>2021-06-08</td>\n",
              "      <td>1896.500000</td>\n",
              "      <td>1902.900024</td>\n",
              "      <td>1890.000000</td>\n",
              "      <td>1892.199951</td>\n",
              "      <td>1892.199951</td>\n",
              "      <td>930.0</td>\n",
              "    </tr>\n",
              "    <tr>\n",
              "      <th>5290</th>\n",
              "      <td>2021-06-09</td>\n",
              "      <td>1894.900024</td>\n",
              "      <td>1897.699951</td>\n",
              "      <td>1889.199951</td>\n",
              "      <td>1893.199951</td>\n",
              "      <td>1893.199951</td>\n",
              "      <td>930.0</td>\n",
              "    </tr>\n",
              "  </tbody>\n",
              "</table>\n",
              "<p>5179 rows × 7 columns</p>\n",
              "</div>\n",
              "      <button class=\"colab-df-convert\" onclick=\"convertToInteractive('df-01978eef-12f4-4189-8c71-2963adb9fbda')\"\n",
              "              title=\"Convert this dataframe to an interactive table.\"\n",
              "              style=\"display:none;\">\n",
              "        \n",
              "  <svg xmlns=\"http://www.w3.org/2000/svg\" height=\"24px\"viewBox=\"0 0 24 24\"\n",
              "       width=\"24px\">\n",
              "    <path d=\"M0 0h24v24H0V0z\" fill=\"none\"/>\n",
              "    <path d=\"M18.56 5.44l.94 2.06.94-2.06 2.06-.94-2.06-.94-.94-2.06-.94 2.06-2.06.94zm-11 1L8.5 8.5l.94-2.06 2.06-.94-2.06-.94L8.5 2.5l-.94 2.06-2.06.94zm10 10l.94 2.06.94-2.06 2.06-.94-2.06-.94-.94-2.06-.94 2.06-2.06.94z\"/><path d=\"M17.41 7.96l-1.37-1.37c-.4-.4-.92-.59-1.43-.59-.52 0-1.04.2-1.43.59L10.3 9.45l-7.72 7.72c-.78.78-.78 2.05 0 2.83L4 21.41c.39.39.9.59 1.41.59.51 0 1.02-.2 1.41-.59l7.78-7.78 2.81-2.81c.8-.78.8-2.07 0-2.86zM5.41 20L4 18.59l7.72-7.72 1.47 1.35L5.41 20z\"/>\n",
              "  </svg>\n",
              "      </button>\n",
              "      \n",
              "  <style>\n",
              "    .colab-df-container {\n",
              "      display:flex;\n",
              "      flex-wrap:wrap;\n",
              "      gap: 12px;\n",
              "    }\n",
              "\n",
              "    .colab-df-convert {\n",
              "      background-color: #E8F0FE;\n",
              "      border: none;\n",
              "      border-radius: 50%;\n",
              "      cursor: pointer;\n",
              "      display: none;\n",
              "      fill: #1967D2;\n",
              "      height: 32px;\n",
              "      padding: 0 0 0 0;\n",
              "      width: 32px;\n",
              "    }\n",
              "\n",
              "    .colab-df-convert:hover {\n",
              "      background-color: #E2EBFA;\n",
              "      box-shadow: 0px 1px 2px rgba(60, 64, 67, 0.3), 0px 1px 3px 1px rgba(60, 64, 67, 0.15);\n",
              "      fill: #174EA6;\n",
              "    }\n",
              "\n",
              "    [theme=dark] .colab-df-convert {\n",
              "      background-color: #3B4455;\n",
              "      fill: #D2E3FC;\n",
              "    }\n",
              "\n",
              "    [theme=dark] .colab-df-convert:hover {\n",
              "      background-color: #434B5C;\n",
              "      box-shadow: 0px 1px 3px 1px rgba(0, 0, 0, 0.15);\n",
              "      filter: drop-shadow(0px 1px 2px rgba(0, 0, 0, 0.3));\n",
              "      fill: #FFFFFF;\n",
              "    }\n",
              "  </style>\n",
              "\n",
              "      <script>\n",
              "        const buttonEl =\n",
              "          document.querySelector('#df-01978eef-12f4-4189-8c71-2963adb9fbda button.colab-df-convert');\n",
              "        buttonEl.style.display =\n",
              "          google.colab.kernel.accessAllowed ? 'block' : 'none';\n",
              "\n",
              "        async function convertToInteractive(key) {\n",
              "          const element = document.querySelector('#df-01978eef-12f4-4189-8c71-2963adb9fbda');\n",
              "          const dataTable =\n",
              "            await google.colab.kernel.invokeFunction('convertToInteractive',\n",
              "                                                     [key], {});\n",
              "          if (!dataTable) return;\n",
              "\n",
              "          const docLinkHtml = 'Like what you see? Visit the ' +\n",
              "            '<a target=\"_blank\" href=https://colab.research.google.com/notebooks/data_table.ipynb>data table notebook</a>'\n",
              "            + ' to learn more about interactive tables.';\n",
              "          element.innerHTML = '';\n",
              "          dataTable['output_type'] = 'display_data';\n",
              "          await google.colab.output.renderOutput(dataTable, element);\n",
              "          const docLink = document.createElement('div');\n",
              "          docLink.innerHTML = docLinkHtml;\n",
              "          element.appendChild(docLink);\n",
              "        }\n",
              "      </script>\n",
              "    </div>\n",
              "  </div>\n",
              "  "
            ],
            "text/plain": [
              "            Date         Open         High  ...        Close    Adj Close  Volume\n",
              "0     2000-08-30   273.899994   273.899994  ...   273.899994   273.899994     0.0\n",
              "1     2000-08-31   274.799988   278.299988  ...   278.299988   278.299988     0.0\n",
              "2     2000-09-01   277.000000   277.000000  ...   277.000000   277.000000     0.0\n",
              "4     2000-09-05   275.799988   275.799988  ...   275.799988   275.799988     2.0\n",
              "5     2000-09-06   274.200012   274.200012  ...   274.200012   274.200012     0.0\n",
              "...          ...          ...          ...  ...          ...          ...     ...\n",
              "5286  2021-06-03  1908.800049  1908.800049  ...  1871.199951  1871.199951  1021.0\n",
              "5287  2021-06-04  1869.300049  1895.500000  ...  1889.800049  1889.800049   367.0\n",
              "5288  2021-06-07  1890.500000  1899.699951  ...  1896.800049  1896.800049    87.0\n",
              "5289  2021-06-08  1896.500000  1902.900024  ...  1892.199951  1892.199951   930.0\n",
              "5290  2021-06-09  1894.900024  1897.699951  ...  1893.199951  1893.199951   930.0\n",
              "\n",
              "[5179 rows x 7 columns]"
            ]
          },
          "metadata": {},
          "execution_count": 12
        }
      ]
    },
    {
      "cell_type": "code",
      "source": [
        "sorted_index = df.sort_values(by=[\"Date\"]).index"
      ],
      "metadata": {
        "id": "ZRs14Udwe5SR"
      },
      "execution_count": 13,
      "outputs": []
    },
    {
      "cell_type": "code",
      "source": [
        "print(sorted_index)\n",
        "print(sorted_index - df.index)\n",
        "print(sum(sorted_index - df.index))"
      ],
      "metadata": {
        "colab": {
          "base_uri": "https://localhost:8080/"
        },
        "id": "ybOz2otyfTjE",
        "outputId": "ec6c9fd8-9c79-412a-e66e-926ad18a63bd"
      },
      "execution_count": 14,
      "outputs": [
        {
          "output_type": "stream",
          "name": "stdout",
          "text": [
            "Int64Index([   0,    1,    2,    4,    5,    6,    7,    8,    9,   10,\n",
            "            ...\n",
            "            5281, 5282, 5283, 5284, 5285, 5286, 5287, 5288, 5289, 5290],\n",
            "           dtype='int64', length=5179)\n",
            "Int64Index([0, 0, 0, 0, 0, 0, 0, 0, 0, 0,\n",
            "            ...\n",
            "            0, 0, 0, 0, 0, 0, 0, 0, 0, 0],\n",
            "           dtype='int64', length=5179)\n",
            "0\n"
          ]
        }
      ]
    },
    {
      "cell_type": "code",
      "source": [
        "print(df['Close'] - df['Adj Close'])\n",
        "print(sum(df['Close'] - df['Adj Close']))"
      ],
      "metadata": {
        "colab": {
          "base_uri": "https://localhost:8080/"
        },
        "id": "bzUbYVEJhVab",
        "outputId": "7b5ad9ac-5828-4673-9044-186a4f267c0c"
      },
      "execution_count": 15,
      "outputs": [
        {
          "output_type": "stream",
          "name": "stdout",
          "text": [
            "0       0.0\n",
            "1       0.0\n",
            "2       0.0\n",
            "4       0.0\n",
            "5       0.0\n",
            "       ... \n",
            "5286    0.0\n",
            "5287    0.0\n",
            "5288    0.0\n",
            "5289    0.0\n",
            "5290    0.0\n",
            "Length: 5179, dtype: float64\n",
            "0.0\n"
          ]
        }
      ]
    },
    {
      "cell_type": "code",
      "source": [
        "df.drop(columns=[\"Date\", \"Adj Close\"], inplace=True)"
      ],
      "metadata": {
        "id": "RU6dxvFnhqTB"
      },
      "execution_count": 16,
      "outputs": []
    },
    {
      "cell_type": "code",
      "source": [
        "for i in range(len(df.columns)):\n",
        "    print(df.columns[i])\n",
        "    plt.hist(df.iloc[:,i], bins=1000)\n",
        "    plt.show()"
      ],
      "metadata": {
        "colab": {
          "base_uri": "https://localhost:8080/",
          "height": 1000
        },
        "id": "LF73-1VEitmC",
        "outputId": "d01d6767-5e3a-4645-9cf8-28ccfdd19990"
      },
      "execution_count": 17,
      "outputs": [
        {
          "output_type": "stream",
          "name": "stdout",
          "text": [
            "Open\n"
          ]
        },
        {
          "output_type": "display_data",
          "data": {
            "image/png": "[encoded data removed]",
            "text/plain": [
              "<Figure size 432x288 with 1 Axes>"
            ]
          },
          "metadata": {
            "needs_background": "light"
          }
        },
        {
          "output_type": "stream",
          "name": "stdout",
          "text": [
            "High\n"
          ]
        },
        {
          "output_type": "display_data",
          "data": {
            "image/png": "[encoded data removed]",
            "text/plain": [
              "<Figure size 432x288 with 1 Axes>"
            ]
          },
          "metadata": {
            "needs_background": "light"
          }
        },
        {
          "output_type": "stream",
          "name": "stdout",
          "text": [
            "Low\n"
          ]
        },
        {
          "output_type": "display_data",
          "data": {
            "image/png": "[encoded data removed]",
            "text/plain": [
              "<Figure size 432x288 with 1 Axes>"
            ]
          },
          "metadata": {
            "needs_background": "light"
          }
        },
        {
          "output_type": "stream",
          "name": "stdout",
          "text": [
            "Close\n"
          ]
        },
        {
          "output_type": "display_data",
          "data": {
            "image/png": "[encoded data removed]",
            "text/plain": [
              "<Figure size 432x288 with 1 Axes>"
            ]
          },
          "metadata": {
            "needs_background": "light"
          }
        },
        {
          "output_type": "stream",
          "name": "stdout",
          "text": [
            "Volume\n"
          ]
        },
        {
          "output_type": "display_data",
          "data": {
            "image/png": "[encoded data removed]",
            "text/plain": [
              "<Figure size 432x288 with 1 Axes>"
            ]
          },
          "metadata": {
            "needs_background": "light"
          }
        }
      ]
    },
    {
      "cell_type": "code",
      "source": [
        "df['log_Volume']=np.log(df.Volume+1)\n",
        "plt.hist(df.log_Volume)\n",
        "plt.show()"
      ],
      "metadata": {
        "id": "dNwkmTaeJ0y3",
        "outputId": "a6b7d74e-b40f-4921-f808-8e908b271783",
        "colab": {
          "base_uri": "https://localhost:8080/",
          "height": 265
        }
      },
      "execution_count": 36,
      "outputs": [
        {
          "output_type": "display_data",
          "data": {
            "image/png": "[encoded data removed]",
            "text/plain": [
              "<Figure size 432x288 with 1 Axes>"
            ]
          },
          "metadata": {
            "needs_background": "light"
          }
        }
      ]
    },
    {
      "cell_type": "code",
      "source": [
        "df.drop(columns=[\"Volume\"], inplace=True)"
      ],
      "metadata": {
        "id": "C3vVgHWzKMAj"
      },
      "execution_count": 37,
      "outputs": []
    },
    {
      "cell_type": "code",
      "source": [
        "plt.figure(figsize=(14,3))\n",
        "plt.plot(df.iloc[:,0])\n",
        "plt.show()\n",
        "\n",
        "plt.figure(figsize=(14,3))\n",
        "plt.plot(df.iloc[:,4])\n",
        "plt.show()\n"
      ],
      "metadata": {
        "colab": {
          "base_uri": "https://localhost:8080/",
          "height": 407
        },
        "id": "M7QQvslWo4qS",
        "outputId": "a71c79e6-a842-47b0-b014-f8d850b87370"
      },
      "execution_count": 18,
      "outputs": [
        {
          "output_type": "display_data",
          "data": {
            "image/png": "[encoded data removed]",
            "text/plain": [
              "<Figure size 1008x216 with 1 Axes>"
            ]
          },
          "metadata": {
            "needs_background": "light"
          }
        },
        {
          "output_type": "display_data",
          "data": {
            "image/png": "[encoded data removed]",
            "text/plain": [
              "<Figure size 1008x216 with 1 Axes>"
            ]
          },
          "metadata": {
            "needs_background": "light"
          }
        }
      ]
    },
    {
      "cell_type": "code",
      "source": [
        "raw_data = df.to_numpy()\n",
        "print(raw_data.shape)"
      ],
      "metadata": {
        "colab": {
          "base_uri": "https://localhost:8080/"
        },
        "id": "FadYdDdcgt47",
        "outputId": "ca314f59-1b80-4d89-bc9f-1082b82b6fb2"
      },
      "execution_count": 19,
      "outputs": [
        {
          "output_type": "stream",
          "name": "stdout",
          "text": [
            "(5179, 5)\n"
          ]
        }
      ]
    },
    {
      "cell_type": "code",
      "source": [
        "print(raw_data[:5])"
      ],
      "metadata": {
        "colab": {
          "base_uri": "https://localhost:8080/"
        },
        "id": "GplAuvN3g30t",
        "outputId": "88760404-eb0a-44e1-fb11-df8080f9d9d0"
      },
      "execution_count": 20,
      "outputs": [
        {
          "output_type": "stream",
          "name": "stdout",
          "text": [
            "[[273.899994 273.899994 273.899994 273.899994   0.      ]\n",
            " [274.799988 278.299988 274.799988 278.299988   0.      ]\n",
            " [277.       277.       277.       277.         0.      ]\n",
            " [275.799988 275.799988 275.799988 275.799988   2.      ]\n",
            " [274.200012 274.200012 274.200012 274.200012   0.      ]]\n"
          ]
        }
      ]
    },
    {
      "cell_type": "markdown",
      "source": [
        "# normalize"
      ],
      "metadata": {
        "id": "ESYLyhWeiRrf"
      }
    },
    {
      "cell_type": "code",
      "source": [
        "maxs = raw_data.max(axis=0)\n",
        "print(maxs)\n",
        "mins = raw_data.min(axis=0)\n",
        "print(mins)"
      ],
      "metadata": {
        "colab": {
          "base_uri": "https://localhost:8080/"
        },
        "id": "NmEhUiEAhxOG",
        "outputId": "2c52f075-6a2d-4fd1-a7e6-4220c6e32750"
      },
      "execution_count": 21,
      "outputs": [
        {
          "output_type": "stream",
          "name": "stdout",
          "text": [
            "[  2045.5   2063.    2040.    2051.5 386334. ]\n",
            "[255.       256.100006 255.       255.100006   0.      ]\n"
          ]
        }
      ]
    },
    {
      "cell_type": "code",
      "source": [
        "normalized = (raw_data - mins) / (maxs - mins)\n",
        "print(normalized[:5])"
      ],
      "metadata": {
        "colab": {
          "base_uri": "https://localhost:8080/"
        },
        "id": "SwjTIY6aiHQo",
        "outputId": "8a9d8d47-ead5-4841-aa37-b7f673ac6e1a"
      },
      "execution_count": 22,
      "outputs": [
        {
          "output_type": "stream",
          "name": "stdout",
          "text": [
            "[[1.05557073e-02 9.85111963e-03 1.05882319e-02 1.04653685e-02\n",
            "  0.00000000e+00]\n",
            " [1.10583569e-02 1.22862262e-02 1.10924303e-02 1.29147083e-02\n",
            "  0.00000000e+00]\n",
            " [1.22870707e-02 1.15667685e-02 1.23249300e-02 1.21910455e-02\n",
            "  0.00000000e+00]\n",
            " [1.16168601e-02 1.09026410e-02 1.16526543e-02 1.15230361e-02\n",
            "  5.17686768e-06]\n",
            " [1.07232684e-02 1.00171598e-02 1.07563092e-02 1.06323792e-02\n",
            "  0.00000000e+00]]\n"
          ]
        }
      ]
    },
    {
      "cell_type": "code",
      "source": [
        "preprocessed = normalized"
      ],
      "metadata": {
        "id": "35hCAbte1YO3"
      },
      "execution_count": 23,
      "outputs": []
    },
    {
      "cell_type": "markdown",
      "source": [
        "# by Data Sampling"
      ],
      "metadata": {
        "id": "c0LQqW08jtvW"
      }
    },
    {
      "cell_type": "code",
      "source": [
        "numbers = preprocessed"
      ],
      "metadata": {
        "id": "fnzuwFSkkFF2"
      },
      "execution_count": 24,
      "outputs": []
    },
    {
      "cell_type": "code",
      "source": [
        "raw_x = []\n",
        "raw_y = []\n",
        "\n",
        "for i in range(len(numbers)):\n",
        "  if i+SEQUENCE_LENGTH+OFFSET >= len(numbers): break\n",
        "  raw_x.append(numbers[i:i+SEQUENCE_LENGTH,:])\n",
        "  raw_y.append(numbers[i+SEQUENCE_LENGTH+OFFSET-1,:])\n",
        "#              0         1              \n",
        "#              01234567890123456789\n",
        "# numbers[0] = 12345678901234567890\n",
        "#                 i = 3\n",
        "#                 <-x->   = [3:8] = 45678\n",
        "#                      y  = [8]   = 9\n",
        "\n"
      ],
      "metadata": {
        "id": "r7NQikGPipTM"
      },
      "execution_count": 25,
      "outputs": []
    },
    {
      "cell_type": "code",
      "source": [
        "print(raw_x[0])\n",
        "print(raw_y[0])\n",
        "print()\n",
        "print(raw_x[1])\n",
        "print(raw_y[1])"
      ],
      "metadata": {
        "colab": {
          "base_uri": "https://localhost:8080/"
        },
        "id": "2dT4KkJrkRbo",
        "outputId": "723bbaa2-9315-4ffd-9706-6901eaf6e5da"
      },
      "execution_count": 26,
      "outputs": [
        {
          "output_type": "stream",
          "name": "stdout",
          "text": [
            "[[1.05557073e-02 9.85111963e-03 1.05882319e-02 1.04653685e-02\n",
            "  0.00000000e+00]\n",
            " [1.10583569e-02 1.22862262e-02 1.10924303e-02 1.29147083e-02\n",
            "  0.00000000e+00]\n",
            " [1.22870707e-02 1.15667685e-02 1.23249300e-02 1.21910455e-02\n",
            "  0.00000000e+00]\n",
            " [1.16168601e-02 1.09026410e-02 1.16526543e-02 1.15230361e-02\n",
            "  5.17686768e-06]\n",
            " [1.07232684e-02 1.00171598e-02 1.07563092e-02 1.06323792e-02\n",
            "  0.00000000e+00]\n",
            " [1.06115610e-02 9.90646636e-03 1.06442577e-02 1.05210388e-02\n",
            "  3.23554230e-04]\n",
            " [1.02206021e-02 9.51905587e-03 1.02520941e-02 1.01313639e-02\n",
            "  0.00000000e+00]\n",
            " [1.01089115e-02 9.40837902e-03 1.01400594e-02 1.00200401e-02\n",
            "  0.00000000e+00]\n",
            " [9.99720413e-03 9.29768557e-03 1.00280078e-02 9.90869965e-03\n",
            "  0.00000000e+00]\n",
            " [9.94135046e-03 9.24233884e-03 9.97198207e-03 9.85302943e-03\n",
            "  0.00000000e+00]]\n",
            "[0.00971795 0.00902097 0.0097479  0.00963037 0.        ]\n",
            "\n",
            "[[1.10583569e-02 1.22862262e-02 1.10924303e-02 1.29147083e-02\n",
            "  0.00000000e+00]\n",
            " [1.22870707e-02 1.15667685e-02 1.23249300e-02 1.21910455e-02\n",
            "  0.00000000e+00]\n",
            " [1.16168601e-02 1.09026410e-02 1.16526543e-02 1.15230361e-02\n",
            "  5.17686768e-06]\n",
            " [1.07232684e-02 1.00171598e-02 1.07563092e-02 1.06323792e-02\n",
            "  0.00000000e+00]\n",
            " [1.06115610e-02 9.90646636e-03 1.06442577e-02 1.05210388e-02\n",
            "  3.23554230e-04]\n",
            " [1.02206021e-02 9.51905587e-03 1.02520941e-02 1.01313639e-02\n",
            "  0.00000000e+00]\n",
            " [1.01089115e-02 9.40837902e-03 1.01400594e-02 1.00200401e-02\n",
            "  0.00000000e+00]\n",
            " [9.99720413e-03 9.29768557e-03 1.00280078e-02 9.90869965e-03\n",
            "  0.00000000e+00]\n",
            " [9.94135046e-03 9.24233884e-03 9.97198207e-03 9.85302943e-03\n",
            "  0.00000000e+00]\n",
            " [9.71795253e-03 9.02096854e-03 9.74789580e-03 9.63036521e-03\n",
            "  0.00000000e+00]]\n",
            "[0.0096621  0.00896562 0.00969187 0.00957469 0.        ]\n"
          ]
        }
      ]
    },
    {
      "cell_type": "code",
      "source": [
        "x = np.array(raw_x)\n",
        "y = np.array(raw_y)\n",
        "print(x.shape)\n",
        "print(y.shape)\n",
        "\n",
        "from sklearn.model_selection import train_test_split\n",
        "\n",
        "train_x, test_x, train_y, test_y = train_test_split(x, y, test_size=0.1, shuffle=True)\n",
        "\n",
        "\n",
        "print(\"Training Data:\")\n",
        "print(train_x.shape)\n",
        "print(train_y.shape)\n",
        "\n",
        "print(\"Test Data:\")\n",
        "print(test_x.shape)\n",
        "print(test_y.shape)\n"
      ],
      "metadata": {
        "colab": {
          "base_uri": "https://localhost:8080/"
        },
        "id": "EAJWL5bckiLk",
        "outputId": "1e0933f7-94aa-40dc-81be-89f540ee7acc"
      },
      "execution_count": 27,
      "outputs": [
        {
          "output_type": "stream",
          "name": "stdout",
          "text": [
            "(5168, 10, 5)\n",
            "(5168, 5)\n",
            "Training Data:\n",
            "(4651, 10, 5)\n",
            "(4651, 5)\n",
            "Test Data:\n",
            "(517, 10, 5)\n",
            "(517, 5)\n"
          ]
        }
      ]
    },
    {
      "cell_type": "code",
      "source": [
        "print(\"train_x[0]\\n\", train_x[0])\n",
        "print()\n",
        "print(\"train_y[0]\\n\", train_y[0])\n",
        "\n",
        "plt.plot(train_x[0].T[0], '.', color='blue')\n",
        "plt.plot([len(train_x[0])], train_y[0,0], 'x', color='blue')\n",
        "plt.plot(train_x[0].T[1], '.', color='red')\n",
        "plt.plot([len(train_x[0])], train_y[0,1], 'o', color='red')\n",
        "\n",
        "plt.show()"
      ],
      "metadata": {
        "colab": {
          "base_uri": "https://localhost:8080/",
          "height": 724
        },
        "id": "u_70o6bWknIN",
        "outputId": "57574b74-4ad9-43ae-ba0d-01535b6d7eb1"
      },
      "execution_count": 28,
      "outputs": [
        {
          "output_type": "stream",
          "name": "stdout",
          "text": [
            "train_x[0]\n",
            " [[2.31778833e-01 2.29066354e-01 2.30532213e-01 2.31295909e-01\n",
            "  8.10179793e-04]\n",
            " [2.34403805e-01 2.32497652e-01 2.34733894e-01 2.33466931e-01\n",
            "  3.52027003e-04]\n",
            " [2.30550119e-01 2.27848793e-01 2.27675083e-01 2.26174582e-01\n",
            "  9.75839559e-04]\n",
            " [2.25914549e-01 2.30948043e-01 2.26610644e-01 2.31128915e-01\n",
            "  2.84986566e-03]\n",
            " [2.31722996e-01 2.29619788e-01 2.31708670e-01 2.30794927e-01\n",
            "  1.34598560e-04]\n",
            " [2.28986317e-01 2.29343071e-01 2.29691877e-01 2.30182571e-01\n",
            "  2.74373987e-04]\n",
            " [2.28986317e-01 2.28900331e-01 2.28291317e-01 2.30349599e-01\n",
            "  2.18722660e-03]\n",
            " [2.29098024e-01 2.26409877e-01 2.17310938e-01 2.18882200e-01\n",
            "  3.36496399e-04]\n",
            " [2.19715177e-01 2.22259122e-01 2.20392170e-01 2.23669572e-01\n",
            "  5.66867011e-04]\n",
            " [2.25411883e-01 2.23532014e-01 2.26106429e-01 2.23558232e-01\n",
            "  4.89213996e-04]]\n",
            "\n",
            "train_y[0]\n",
            " [2.25020957e-01 2.22646532e-01 2.25490196e-01 2.23558232e-01\n",
            " 2.32959046e-05]\n"
          ]
        },
        {
          "output_type": "display_data",
          "data": {
            "image/png": "[encoded data removed]",
            "text/plain": [
              "<Figure size 432x288 with 1 Axes>"
            ]
          },
          "metadata": {
            "needs_background": "light"
          }
        }
      ]
    },
    {
      "cell_type": "code",
      "source": [
        "from tensorflow import keras\n",
        "from tensorflow.keras.layers import Dense, RepeatVector, Flatten\n",
        "from tensorflow.keras.layers import Bidirectional, LSTM, GRU\n",
        "\n",
        "input_shape = train_x.shape[1:]\n",
        "output_shape = train_y.shape[-1]\n",
        "\n",
        "model = keras.Sequential()\n",
        "model.add(LSTM(128, input_shape=input_shape))\n",
        "model.add(Flatten())\n",
        "model.add(Dense(output_shape))\n",
        "model.compile(loss=\"mse\", optimizer=\"adam\", metrics=[\"mape\"])\n",
        "model.summary()\n",
        "\n",
        "history = model.fit(train_x, train_y, epochs=10, verbose=0, validation_split=0.1, batch_size=BATCH_SIZE)\n",
        "\n",
        "\n",
        "plt.plot(history.history['loss'])\n",
        "plt.plot(history.history['val_loss'])\n",
        "plt.show()\n",
        "\n",
        "\n",
        "\n",
        "loss, mape = model.evaluate(test_x, test_y)\n",
        "print(\"loss=\", loss)\n",
        "print(\"mape=\", mape)\n",
        "\n",
        "\n",
        "\n",
        "y_ = model.predict(test_x).squeeze()\n",
        "for i in range(output_shape):\n",
        "    plt.scatter(test_y[:,i], y_[:,i])\n",
        "    plt.show()"
      ],
      "metadata": {
        "colab": {
          "base_uri": "https://localhost:8080/",
          "height": 1000
        },
        "id": "H_DZZN8oj16K",
        "outputId": "919a7560-075c-4e98-f9aa-2dace1ce091e"
      },
      "execution_count": 29,
      "outputs": [
        {
          "output_type": "stream",
          "name": "stdout",
          "text": [
            "Model: \"sequential\"\n",
            "_________________________________________________________________\n",
            " Layer (type)                Output Shape              Param #   \n",
            "=================================================================\n",
            " lstm (LSTM)                 (None, 128)               68608     \n",
            "                                                                 \n",
            " flatten (Flatten)           (None, 128)               0         \n",
            "                                                                 \n",
            " dense (Dense)               (None, 5)                 645       \n",
            "                                                                 \n",
            "=================================================================\n",
            "Total params: 69,253\n",
            "Trainable params: 69,253\n",
            "Non-trainable params: 0\n",
            "_________________________________________________________________\n"
          ]
        },
        {
          "output_type": "display_data",
          "data": {
            "image/png": "[encoded data removed]",
            "text/plain": [
              "<Figure size 432x288 with 1 Axes>"
            ]
          },
          "metadata": {
            "needs_background": "light"
          }
        },
        {
          "output_type": "stream",
          "name": "stdout",
          "text": [
            "17/17 [==============================] - 0s 4ms/step - loss: 0.0016 - mape: 30603.6504\n",
            "loss= 0.0016301301075145602\n",
            "mape= 30603.650390625\n"
          ]
        },
        {
          "output_type": "display_data",
          "data": {
            "image/png": "[encoded data removed]",
            "text/plain": [
              "<Figure size 432x288 with 1 Axes>"
            ]
          },
          "metadata": {
            "needs_background": "light"
          }
        },
        {
          "output_type": "display_data",
          "data": {
            "image/png": "[encoded data removed]",
            "text/plain": [
              "<Figure size 432x288 with 1 Axes>"
            ]
          },
          "metadata": {
            "needs_background": "light"
          }
        },
        {
          "output_type": "display_data",
          "data": {
            "image/png": "[encoded data removed]",
            "text/plain": [
              "<Figure size 432x288 with 1 Axes>"
            ]
          },
          "metadata": {
            "needs_background": "light"
          }
        },
        {
          "output_type": "display_data",
          "data": {
            "image/png": "[encoded data removed]",
            "text/plain": [
              "<Figure size 432x288 with 1 Axes>"
            ]
          },
          "metadata": {
            "needs_background": "light"
          }
        },
        {
          "output_type": "display_data",
          "data": {
            "image/png": "[encoded data removed]",
            "text/plain": [
              "<Figure size 432x288 with 1 Axes>"
            ]
          },
          "metadata": {
            "needs_background": "light"
          }
        }
      ]
    },
    {
      "cell_type": "code",
      "source": [
        "plt.plot(test_y[0], 'b.')\n",
        "plt.plot(y_[0], 'r.')\n",
        "plt.show()\n",
        "\n",
        "plt.plot(test_y[0,:-1], 'b.')\n",
        "plt.plot(y_[0,:-1], 'r.')\n",
        "plt.show()"
      ],
      "metadata": {
        "colab": {
          "base_uri": "https://localhost:8080/",
          "height": 513
        },
        "id": "JglbgKh6mB9R",
        "outputId": "eff5acc6-6211-4833-f90b-bebeb2ca6cd7"
      },
      "execution_count": 30,
      "outputs": [
        {
          "output_type": "display_data",
          "data": {
            "image/png": "[encoded data removed]",
            "text/plain": [
              "<Figure size 432x288 with 1 Axes>"
            ]
          },
          "metadata": {
            "needs_background": "light"
          }
        },
        {
          "output_type": "display_data",
          "data": {
            "image/png": "[encoded data removed]",
            "text/plain": [
              "<Figure size 432x288 with 1 Axes>"
            ]
          },
          "metadata": {
            "needs_background": "light"
          }
        }
      ]
    },
    {
      "cell_type": "code",
      "source": [
        "denomalized_test_y = test_y * (maxs - mins) + mins\n",
        "denomalized_y_ = y_ * (maxs - mins) + mins"
      ],
      "metadata": {
        "id": "uAK9LDzBoFd4"
      },
      "execution_count": 31,
      "outputs": []
    },
    {
      "cell_type": "code",
      "source": [
        "plt.plot(denomalized_test_y[0], 'b.')\n",
        "plt.plot(denomalized_y_[0], 'r.')\n",
        "plt.show()\n",
        "\n",
        "plt.plot(denomalized_test_y[0,:-1], 'b.')\n",
        "plt.plot(denomalized_y_[0,:-1], 'r.')\n",
        "plt.show()"
      ],
      "metadata": {
        "colab": {
          "base_uri": "https://localhost:8080/",
          "height": 513
        },
        "id": "53IqHJvtoQjk",
        "outputId": "878b70a9-cb5c-4895-880a-6bbb93703f96"
      },
      "execution_count": 32,
      "outputs": [
        {
          "output_type": "display_data",
          "data": {
            "image/png": "[encoded data removed]",
            "text/plain": [
              "<Figure size 432x288 with 1 Axes>"
            ]
          },
          "metadata": {
            "needs_background": "light"
          }
        },
        {
          "output_type": "display_data",
          "data": {
            "image/png": "[encoded data removed]",
            "text/plain": [
              "<Figure size 432x288 with 1 Axes>"
            ]
          },
          "metadata": {
            "needs_background": "light"
          }
        }
      ]
    },
    {
      "cell_type": "markdown",
      "source": [
        "# by Keras Sequence Data Generator"
      ],
      "metadata": {
        "id": "VxPXZ2m106W7"
      }
    },
    {
      "cell_type": "code",
      "source": [
        "from tensorflow.keras.utils import Sequence\n",
        "\n",
        "class DataGenerator(Sequence):\n",
        "\n",
        "    def __init__(self, numbers, \n",
        "                 sequence_length=SEQUENCE_LENGTH, \n",
        "                 offset=OFFSET, \n",
        "                 batch_size=BATCH_SIZE, \n",
        "                 shuffle=True,\n",
        "                 validation_split=0.0,\n",
        "                 test_split=0.0,\n",
        "                 indexes=None,\n",
        "                 max_size=None):\n",
        "        self.numbers = numbers\n",
        "        self.sequence_length = sequence_length\n",
        "        self.offset = offset\n",
        "        self.batch_size = batch_size\n",
        "        self.shuffle = shuffle\n",
        "        self.indexes, self.valid_indexes, self.test_indexes = self._prepare_indexes(validation_split, test_split, indexes, max_size)\n",
        "\n",
        "    def __len__(self):\n",
        "        return int(np.floor(len(self.indexes) / self.batch_size))\n",
        "\n",
        "    def __getitem__(self, index):\n",
        "        indexes = self.indexes[index*self.batch_size:(index+1)*self.batch_size]\n",
        "        return self._generate_data(indexes)\n",
        "\n",
        "    def on_epoch_end(self):\n",
        "        self._shuffle_index()\n",
        "\n",
        "    def _prepare_indexes(self, validation_split, test_split, indexes, max_size):\n",
        "        if indexes is not None:\n",
        "            return indexes, None, None\n",
        "\n",
        "        data_count = len(self.numbers) - (self.sequence_length+self.offset) + 1\n",
        "        all_index = np.arange(data_count)\n",
        "        np.random.shuffle(all_index)\n",
        "        if max_size is not None:\n",
        "            all_index = all_index[:max_size]\n",
        "\n",
        "        if validation_split+test_split==0.0:\n",
        "            return all_index, None, None\n",
        "\n",
        "        valid_i = int(len(all_index)*(1-validation_split-test_split))\n",
        "        test_i = int(len(all_index)*(1-test_split))\n",
        "\n",
        "        return all_index[:valid_i], all_index[valid_i:test_i], all_index[test_i:]\n",
        "        \n",
        "    def _shuffle_index(self):\n",
        "        if self.shuffle == True:\n",
        "            np.random.shuffle(self.indexes)\n",
        "\n",
        "    def _generate_data(self, indexes):\n",
        "        X = np.empty((len(indexes), self.sequence_length, self.numbers.shape[-1]))\n",
        "        Y = np.empty((len(indexes), self.numbers.shape[-1]))\n",
        "\n",
        "        for i, index in enumerate(indexes):\n",
        "            X[i] = self.numbers[index:index+self.sequence_length]\n",
        "            Y[i] = self.numbers[index+self.sequence_length+self.offset-1]\n",
        "        return X, Y\n",
        "\n",
        "    def get_all_data(self):\n",
        "        return self._generate_data(self.indexes)        \n",
        "\n",
        "    def subset(self, type):\n",
        "        if type==\"train\":\n",
        "            return DataGenerator(self.numbers, indexes=self.indexes)\n",
        "        elif type==\"validation\" or type==\"valid\":\n",
        "            return DataGenerator(self.numbers, indexes=self.valid_indexes)\n",
        "        elif type==\"test\":\n",
        "            return DataGenerator(self.numbers, indexes=self.test_indexes)\n",
        "        else:\n",
        "            print(\"invalid type {}\".format(type))"
      ],
      "metadata": {
        "id": "BoYqpgU-oTg1"
      },
      "execution_count": 33,
      "outputs": []
    },
    {
      "cell_type": "code",
      "source": [
        "data_generator = DataGenerator(preprocessed, validation_split=0.1, test_split=0.1)\n",
        "train_data_generator = data_generator.subset(\"train\")\n",
        "valid_data_generator = data_generator.subset(\"valid\")\n",
        "test_data_generator = data_generator.subset(\"test\")\n",
        "\n",
        "batch_x, batch_y = train_data_generator.__getitem__(0)\n",
        "print(batch_x.shape)\n",
        "print(batch_y.shape)\n",
        "print(batch_x[0])\n",
        "print(batch_y[0])\n",
        "\n",
        "print(len(preprocessed)-(SEQUENCE_LENGTH+OFFSET)+1)\n",
        "print(len(train_data_generator.indexes))\n",
        "print(len(valid_data_generator.indexes))\n",
        "print(len(test_data_generator.indexes))"
      ],
      "metadata": {
        "colab": {
          "base_uri": "https://localhost:8080/"
        },
        "id": "syHJzNvixQ-y",
        "outputId": "b5d912cf-1cbb-4308-86fe-a9c11202faf0"
      },
      "execution_count": 34,
      "outputs": [
        {
          "output_type": "stream",
          "name": "stdout",
          "text": [
            "(32, 10, 5)\n",
            "(32, 5)\n",
            "[[2.52387615e-01 2.49764801e-01 2.53165280e-01 2.52950343e-01\n",
            "  4.91802430e-05]\n",
            " [2.58140191e-01 2.55188448e-01 2.57647072e-01 2.53005996e-01\n",
            "  8.54183168e-05]\n",
            " [2.59201327e-01 2.56239953e-01 2.59999987e-01 2.56457350e-01\n",
            "  9.31836183e-05]\n",
            " [2.57358273e-01 2.54413627e-01 2.58151254e-01 2.56457350e-01\n",
            "  2.69197120e-04]\n",
            " [2.62273095e-01 2.59283841e-01 2.63081219e-01 2.59908704e-01\n",
            "  3.10612061e-05]\n",
            " [2.66629447e-01 2.63600653e-01 2.67450994e-01 2.65698074e-01\n",
            "  3.10612061e-05]\n",
            " [2.66070943e-01 2.63047219e-01 2.66890770e-01 2.65141405e-01\n",
            "  1.55306031e-05]\n",
            " [2.66461869e-01 2.63434596e-01 2.67282900e-01 2.65531046e-01\n",
            "  3.88265076e-04]\n",
            " [2.66182617e-01 2.63157879e-01 2.67002788e-01 2.65252712e-01\n",
            "  1.55306031e-04]\n",
            " [2.64339563e-01 2.61331553e-01 2.65154055e-01 2.63415711e-01\n",
            "  3.33933850e-02]]\n",
            "[0.26428373 0.26531629 0.26464987 0.26586507 0.03064965]\n",
            "5169\n",
            "4135\n",
            "517\n",
            "517\n"
          ]
        }
      ]
    },
    {
      "cell_type": "code",
      "source": [
        "from tensorflow import keras\n",
        "from tensorflow.keras.layers import Dense, RepeatVector, Flatten\n",
        "from tensorflow.keras.layers import Bidirectional, LSTM, GRU, Input\n",
        "\n",
        "input_shape = (SEQUENCE_LENGTH, preprocessed.shape[-1])\n",
        "output_shape = preprocessed.shape[-1]\n",
        "\n",
        "model = keras.Sequential()\n",
        "model.add(Input(input_shape))\n",
        "model.add(LSTM(128))\n",
        "model.add(Flatten())\n",
        "model.add(Dense(10, activation=\"relu\"))\n",
        "model.add(Dense(output_shape))\n",
        "model.compile(loss=\"mse\", optimizer=\"adam\", metrics=[\"mape\"])\n",
        "model.summary()\n",
        "\n",
        "history = model.fit(train_data_generator, epochs=10, verbose=0, validation_data=valid_data_generator)\n",
        "\n",
        "\n",
        "plt.plot(history.history['loss'])\n",
        "plt.plot(history.history['val_loss'])\n",
        "plt.show()\n",
        "\n",
        "\n",
        "\n",
        "loss, mape = model.evaluate(test_data_generator)\n",
        "print(\"loss=\", loss)\n",
        "print(\"mape=\", mape)\n",
        "\n",
        "\n",
        "batch_x, batch_y = test_data_generator.get_all_data()\n",
        "y_ = model.predict(batch_x).squeeze()\n",
        "for i in range(output_shape):\n",
        "    plt.scatter(batch_y[:,i], y_[:,i])\n",
        "    plt.show()"
      ],
      "metadata": {
        "colab": {
          "base_uri": "https://localhost:8080/",
          "height": 1000
        },
        "id": "7LSyMSgzzS3E",
        "outputId": "c3040206-3da5-41f4-8aeb-8bf7efe00d56"
      },
      "execution_count": 35,
      "outputs": [
        {
          "output_type": "stream",
          "name": "stdout",
          "text": [
            "Model: \"sequential_1\"\n",
            "_________________________________________________________________\n",
            " Layer (type)                Output Shape              Param #   \n",
            "=================================================================\n",
            " lstm_1 (LSTM)               (None, 128)               68608     \n",
            "                                                                 \n",
            " flatten_1 (Flatten)         (None, 128)               0         \n",
            "                                                                 \n",
            " dense_1 (Dense)             (None, 10)                1290      \n",
            "                                                                 \n",
            " dense_2 (Dense)             (None, 5)                 55        \n",
            "                                                                 \n",
            "=================================================================\n",
            "Total params: 69,953\n",
            "Trainable params: 69,953\n",
            "Non-trainable params: 0\n",
            "_________________________________________________________________\n"
          ]
        },
        {
          "output_type": "display_data",
          "data": {
            "image/png": "[encoded data removed]",
            "text/plain": [
              "<Figure size 432x288 with 1 Axes>"
            ]
          },
          "metadata": {
            "needs_background": "light"
          }
        },
        {
          "output_type": "stream",
          "name": "stdout",
          "text": [
            "16/16 [==============================] - 0s 4ms/step - loss: 8.8556e-04 - mape: 67377.5469\n",
            "loss= 0.0008855621563270688\n",
            "mape= 67377.546875\n"
          ]
        },
        {
          "output_type": "display_data",
          "data": {
            "image/png": "[encoded data removed]",
            "text/plain": [
              "<Figure size 432x288 with 1 Axes>"
            ]
          },
          "metadata": {
            "needs_background": "light"
          }
        },
        {
          "output_type": "display_data",
          "data": {
            "image/png": "[encoded data removed]",
            "text/plain": [
              "<Figure size 432x288 with 1 Axes>"
            ]
          },
          "metadata": {
            "needs_background": "light"
          }
        },
        {
          "output_type": "display_data",
          "data": {
            "image/png": "[encoded data removed]",
            "text/plain": [
              "<Figure size 432x288 with 1 Axes>"
            ]
          },
          "metadata": {
            "needs_background": "light"
          }
        },
        {
          "output_type": "display_data",
          "data": {
            "image/png": "[encoded data removed]",
            "text/plain": [
              "<Figure size 432x288 with 1 Axes>"
            ]
          },
          "metadata": {
            "needs_background": "light"
          }
        },
        {
          "output_type": "display_data",
          "data": {
            "image/png": "[encoded data removed]",
            "text/plain": [
              "<Figure size 432x288 with 1 Axes>"
            ]
          },
          "metadata": {
            "needs_background": "light"
          }
        }
      ]
    },
    {
      "cell_type": "code",
      "source": [
        ""
      ],
      "metadata": {
        "id": "09Qy5zLaDiNz"
      },
      "execution_count": null,
      "outputs": []
    }
  ]
}